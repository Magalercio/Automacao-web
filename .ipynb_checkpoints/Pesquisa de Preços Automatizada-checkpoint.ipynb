{
 "cells": [
  {
   "cell_type": "markdown",
   "metadata": {},
   "source": [
    "# Projeto Automação Web - Busca de Preços\n",
    "\n",
    "### Objetivo: treinar um projeto em que a gente tenha que usar automações web com Selenium para buscar as informações que precisamos\n",
    "\n",
    "- Já fizemos um projeto com esse objetivo no Módulo de Python e Web e em gravações de encontros ao vivo, mas não custa nada treinar mais um pouco.\n",
    "\n",
    "### Como vai funcionar:\n",
    "\n",
    "- Imagina que você trabalha na área de compras de uma empresa e precisa fazer uma comparação de fornecedores para os seus insumos/produtos.\n",
    "\n",
    "- Nessa hora, você vai constantemente buscar nos sites desses fornecedores os produtos disponíveis e o preço, afinal, cada um deles pode fazer promoção em momentos diferentes e com valores diferentes.\n",
    "\n",
    "- Seu objetivo: Se o valor dos produtos for abaixo de um preço limite definido por você, você vai descobrir os produtos mais baratos e atualizar isso em uma planilha.\n",
    "- Em seguida, vai enviar um e-mail com a lista dos produtos abaixo do seu preço máximo de compra.\n",
    "\n",
    "- No nosso caso, vamos fazer com produtos comuns em sites como Google Shopping e Buscapé, mas a ideia é a mesma para outros sites.\n",
    "\n",
    "### Outra opção:\n",
    "\n",
    "- APIs\n",
    "\n",
    "### O que temos disponível?\n",
    "\n",
    "- Planilha de Produtos, com os nomes dos produtos, o preço máximo, o preço mínimo (para evitar produtos \"errados\" ou \"baratos de mais para ser verdade\" e os termos que vamos querer evitar nas nossas buscas.\n",
    "\n",
    "### O que devemos fazer:\n",
    "\n",
    "- Procurar cada produto no Google Shopping e pegar todos os resultados que tenham preço dentro da faixa e sejam os produtos corretos\n",
    "- O mesmo para o Buscapé\n",
    "- Enviar um e-mail para o seu e-mail (no caso da empresa seria para a área de compras por exemplo) com a notificação e a tabela com os itens e preços encontrados, junto com o link de compra. (Vou usar o e-mail pythonimpressionador@gmail.com. Use um e-mail seu para fazer os testes para ver se a mensagem está chegando)"
   ]
  },
  {
   "cell_type": "markdown",
   "metadata": {},
   "source": [
    "### Passo 1: Criar um navegador"
   ]
  },
  {
   "cell_type": "code",
   "execution_count": 64,
   "metadata": {},
   "outputs": [],
   "source": [
    "from selenium import webdriver\n",
    "from selenium.webdriver.common.by import By\n",
    "from selenium.webdriver.common.keys import Keys\n",
    "import pandas as pd\n",
    "driver = webdriver.Chrome()\n",
    "\n"
   ]
  },
  {
   "cell_type": "markdown",
   "metadata": {},
   "source": [
    "### Passo 2: Importar/visualizar base de dados"
   ]
  },
  {
   "cell_type": "code",
   "execution_count": 65,
   "metadata": {},
   "outputs": [
    {
     "data": {
      "text/html": [
       "<div>\n",
       "<style scoped>\n",
       "    .dataframe tbody tr th:only-of-type {\n",
       "        vertical-align: middle;\n",
       "    }\n",
       "\n",
       "    .dataframe tbody tr th {\n",
       "        vertical-align: top;\n",
       "    }\n",
       "\n",
       "    .dataframe thead th {\n",
       "        text-align: right;\n",
       "    }\n",
       "</style>\n",
       "<table border=\"1\" class=\"dataframe\">\n",
       "  <thead>\n",
       "    <tr style=\"text-align: right;\">\n",
       "      <th></th>\n",
       "      <th>Nome</th>\n",
       "      <th>Termos banidos</th>\n",
       "      <th>Preço mínimo</th>\n",
       "      <th>Preço máximo</th>\n",
       "    </tr>\n",
       "  </thead>\n",
       "  <tbody>\n",
       "    <tr>\n",
       "      <th>0</th>\n",
       "      <td>iphone 12 64gb</td>\n",
       "      <td>mini watch</td>\n",
       "      <td>3000</td>\n",
       "      <td>3500</td>\n",
       "    </tr>\n",
       "    <tr>\n",
       "      <th>1</th>\n",
       "      <td>rtx 3060</td>\n",
       "      <td>zota galax</td>\n",
       "      <td>4000</td>\n",
       "      <td>4500</td>\n",
       "    </tr>\n",
       "  </tbody>\n",
       "</table>\n",
       "</div>"
      ],
      "text/plain": [
       "             Nome Termos banidos  Preço mínimo  Preço máximo\n",
       "0  iphone 12 64gb     mini watch          3000          3500\n",
       "1        rtx 3060     zota galax          4000          4500"
      ]
     },
     "metadata": {},
     "output_type": "display_data"
    }
   ],
   "source": [
    "tabela_produtos = pd.read_excel ('buscas.xlsx')\n",
    "display(tabela_produtos)"
   ]
  },
  {
   "cell_type": "markdown",
   "metadata": {},
   "source": [
    "### Passo 3: Procurar no google shopping\n",
    "####         Verificar se os produtos estão dentro da faixa de preço"
   ]
  },
  {
   "cell_type": "code",
   "execution_count": 66,
   "metadata": {},
   "outputs": [],
   "source": [
    "produto = 'iphone 12 64gb'\n",
    "driver.get('http://www.google.com')\n",
    "driver.find_element(By.XPATH, '/html/body/div[1]/div[3]/form/div[1]/div[1]/div[1]/div/div[2]/input').send_keys(produto)\n",
    "driver.find_element(By.XPATH, '/html/body/div[1]/div[3]/form/div[1]/div[1]/div[1]/div/div[2]/input').send_keys(Keys.ENTER)"
   ]
  },
  {
   "cell_type": "code",
   "execution_count": 67,
   "metadata": {},
   "outputs": [],
   "source": [
    "#entrando no botão do shopping\n",
    "elementos = driver.find_elements(By.CLASS_NAME, 'hdtb-mitem')\n",
    "for elemento in elementos:\n",
    "    if \"Shopping\" in elemento.text:\n",
    "        elemento.click()\n",
    "        break\n",
    "        "
   ]
  },
  {
   "cell_type": "code",
   "execution_count": 68,
   "metadata": {},
   "outputs": [
    {
     "name": "stdout",
     "output_type": "stream",
     "text": [
      "Apple iPhone 12 (64 GB) - Azul R$ 4.549,00 https://www.google.com/url?url=https://www.iplace.com.br/iphone-12-apple-azul-64gb-mgj83br-a/216223&rct=j&q=&esrc=s&sa=U&ved=0ahUKEwi9sNqz8qj3AhV4p5UCHTaxAnYQguUECP0L&usg=AOvVaw3VjND0Mb-Zs6uam9ZnzM8y\n",
      "Apple iPhone 12, Preto, 64GB, Tela 6,1 Pol. Câm. Dupla 12MP no Plano Vivo Selfie ... R$ 4.499,00 https://www.google.com/url?url=https://lojaonline.vivo.com.br/vivostorefront/Vivo/Aparelhos/Smartphone/iPhone-12-Apple-Preto,-64GB,-Tela-6-1,-C%25C3%25A2m-Dupla-12MP/p/DGAP13062000%3FbestPlanCode%3DPLPOSPREMI_NFCB%26origem%3Dfeed-google-shopping%26utm_source%3Dgoogle_shopping%26utm_medium%3Dorganic%26utm_campaign%3Dfree_shopping_list&rct=j&q=&esrc=s&sa=U&ved=0ahUKEwi9sNqz8qj3AhV4p5UCHTaxAnYQgOUECI0M&usg=AOvVaw3b7qGl7FNIdTL0bSgmaUE_\n",
      "Apple iPhone 12 - 64GB Product (Red) - Vermelho R$ 4.319,10 https://www.google.com/url?url=https://www.americanas.com.br/produto/3591018375%3Fopn%3DYSMESP&rct=j&q=&esrc=s&sa=U&ved=0ahUKEwi9sNqz8qj3AhV4p5UCHTaxAnYQguUECJ8M&usg=AOvVaw31hEh6ZGBM4_6N1XGAG3uf\n",
      "iPhone 12 Mini 64 Gb - Branco Apple R$ 4.364,10 https://www.google.com/url?url=https://www.casasbahia.com.br/iphone-12-mini-apple-64gb-branco-tela-de-54-camera-dupla-de-12mp-ios-55014489/p/55014489%3Futm_medium%3DCpc%26utm_source%3Dgoogle_freelisting%26IdSku%3D55014489%26idLojista%3D10037%26tipoLojista%3D1P&rct=j&q=&esrc=s&sa=U&ved=0ahUKEwi9sNqz8qj3AhV4p5UCHTaxAnYQguUECLEM&usg=AOvVaw18opQ-jRWjEwXf2KyJb6q8\n",
      "iPhone 12 Apple (64GB) Azul, Tela de 6,1, 5G e Câmera Dupla de 12 Mp R$ 5.601,63 https://www.google.com/url?url=https://www.carrefour.com.br/iphone-12-azul-64gb-tela-de-61-5g-mgj83br-a/p&rct=j&q=&esrc=s&sa=U&ved=0ahUKEwi9sNqz8qj3AhV4p5UCHTaxAnYQguUECMIM&usg=AOvVaw2INi9ZzkRXYFyEHrkrnTqT\n",
      "Apple iPhone 12 (64GB) - Azul R$ 5.169,32 https://www.google.com/url?url=https://www.zoom.com.br/lead%3Foid%3D587426828%26sortorder%3D-1%26index%3D%26searchterm%3Dnull%26pagesize%3D-1%26channel%3D%26og%3D19221&rct=j&q=&esrc=s&sa=U&ved=0ahUKEwi9sNqz8qj3AhV4p5UCHTaxAnYQgOUECNIM&usg=AOvVaw1Czg7M103HbXFHn0qsX06G\n",
      "Apple iPhone 12 (64GB) - Branco R$ 5.169,32 https://www.google.com/url?url=https://www.zoom.com.br/lead%3Foid%3D587426827%26sortorder%3D-1%26index%3D%26searchterm%3Dnull%26pagesize%3D-1%26channel%3D%26og%3D19221&rct=j&q=&esrc=s&sa=U&ved=0ahUKEwi9sNqz8qj3AhV4p5UCHTaxAnYQgOUECOEM&usg=AOvVaw3tZffdjwBgS1KzUG9zZfJ3\n",
      "iPhone 12 Apple (64GB) Preto Tela 6,1\" 5G Câmera 12MP + 12MP Ios R$ 5.578,97 https://www.google.com/url?url=https://www.submarino.com.br/produto/3614407323%3Fopn%3DXMLGOOGLE&rct=j&q=&esrc=s&sa=U&ved=0ahUKEwi9sNqz8qj3AhV4p5UCHTaxAnYQguUECPEM&usg=AOvVaw3v-uS_59LnzTQeBQnkEacc\n",
      "Iphone 12 Mini Apple (64gb) Azul Tela 5,4\" Câmera Dupla 12mp Ios R$ 3.150,00 https://www.google.com/url?url=https://shopmaranhao.com.br/produto/iphone-12-mini-apple-64gb-azul-tela-54-camera-dupla-12mp-ios/&rct=j&q=&esrc=s&sa=U&ved=0ahUKEwi9sNqz8qj3AhV4p5UCHTaxAnYQgOUECIEN&usg=AOvVaw1Bouyeu17DUQHJ6r31cgIU\n",
      "iPhone 11 Apple (64GB) Branco Tela 6,1\" 4G Câmera 12MP iOS R$ 3.699,99 https://www.google.com/url?url=https://intecloja.com/index.php/product/iphone-11-apple-64gb-branco-tela-61-4g-camera-12mp-ios/%3Futm_source%3DGoogle%2520Shopping%26utm_campaign%3D490%2520produtos%26utm_medium%3Dcpc%26utm_term%3D11927&rct=j&q=&esrc=s&sa=U&ved=0ahUKEwi9sNqz8qj3AhV4p5UCHTaxAnYQgOUECJAN&usg=AOvVaw0c9gM1j95Z0qFyT_TKQz1y\n",
      "iPhone 11 64 Gb - Preto Apple R$ 3.704,05 https://www.google.com/url?url=https://www.extra.com.br/iphone-11-apple-64gb-preto-tela-de-61-camera-dupla-de-12mp-ios-55014764/p/55014764%3Futm_medium%3Dcpc%26utm_source%3Dgoogle_freelisting%26IdSku%3D55014764%26idLojista%3D15%26tipoLojista%3D1P&rct=j&q=&esrc=s&sa=U&ved=0ahUKEwi9sNqz8qj3AhV4p5UCHTaxAnYQguUECKEN&usg=AOvVaw0AH4t78cVB-b7_G4YoE3ZP\n",
      "iPhone 12 Apple 64GB iOS 5G Wi-Fi Tela 6.1'' Câmera 12MP - Preto R$ 4.299,00 https://www.google.com/url?url=https://www.daleshop.com.br/products/iphone-12-apple-64gb-ios-5g-wi-fi-tela-6-1-camera-12mp-preto%3Fvariant%3D42748171387050%26currency%3DBRL%26utm_medium%3Dproduct_sync%26utm_source%3Dgoogle%26utm_content%3Dsag_organic%26utm_campaign%3Dsag_organic&rct=j&q=&esrc=s&sa=U&ved=0ahUKEwi9sNqz8qj3AhV4p5UCHTaxAnYQgOUECLEN&usg=AOvVaw2RI-e0dg2kLeCVEAL3f76Y\n",
      "Apple iPhone 12, 64 gb, Verde - totalmente Desbloqueado (Renovado) R$ 2.964,00 https://www.google.com/url?url=https://tiendamia.com/br/producto%3Famz%3DB08PP7VXQL&rct=j&q=&esrc=s&sa=U&ved=0ahUKEwi9sNqz8qj3AhV4p5UCHTaxAnYQguUECMAN&usg=AOvVaw3nghS9TJhyAhTAeBS4PYL4\n",
      "Iphone 12 Azul 64gb | Celular Apple | Usado R$ 3.500,00 https://www.google.com/url?url=https://www.enjoei.com.br/p/iphone-12-azul-64gb-69643769%3Fg_campaign%3Dgoogle_shopping&rct=j&q=&esrc=s&sa=U&ved=0ahUKEwi9sNqz8qj3AhV4p5UCHTaxAnYQgOUECNAN&usg=AOvVaw2rosSoQ-SCtIOWDSq4iRLB\n",
      "Apple iPhone 12 Mini, 64 gb, Azul - totalmente Desbloqueado (renovado... R$ 2.352,00 https://www.google.com/url?url=https://tiendamia.com/br/producto%3Famz%3DB08PNN2SKF&rct=j&q=&esrc=s&sa=U&ved=0ahUKEwi9sNqz8qj3AhV4p5UCHTaxAnYQguUECOEN&usg=AOvVaw3hI7SDE0nsZvsrpERYqU3S\n",
      "iPhone 11 64GB Preto, Com Tela de 6,1, 4G e Câmera de 12 Mp - MHDA3BR/A R$ 3.920,00 https://www.google.com/url?url=https://www.kabum.com.br/produto/162164/iphone-11-preto-com-tela-de-6-1-4g-64-gb-e-camera-de-12-mp-mhda3br-a%3Fsrsltid%3DAWLEVJzIeTVn5zoYTi__-q0FmVr_nabvPemh8FAxHzfQ7Cy-q0papAyWxs4&rct=j&q=&esrc=s&sa=U&ved=0ahUKEwi9sNqz8qj3AhV4p5UCHTaxAnYQguUECPIN&usg=AOvVaw0bZN42AQMKK0mK9rmImqMR\n",
      "iPhone 12 Apple - 64GB (Seminovo) BLACK R$ 5.650,00 https://www.google.com/url?url=https://mulherluxuosa1.com.br/products/iphone-12-64gb%3Fvariant%3D42491340554480%26currency%3DBRL%26utm_medium%3Dproduct_sync%26utm_source%3Dgoogle%26utm_content%3Dsag_organic%26utm_campaign%3Dsag_organic&rct=j&q=&esrc=s&sa=U&ved=0ahUKEwi9sNqz8qj3AhV4p5UCHTaxAnYQgOUECIIO&usg=AOvVaw16fykU_1KFyep9DWfyBAx7\n",
      "Apple iPhone 12 (64GB) - Verde R$ 5.169,32 https://www.google.com/url?url=https://www.zoom.com.br/lead%3Foid%3D587437290%26sortorder%3D-1%26index%3D%26searchterm%3Dnull%26pagesize%3D-1%26channel%3D%26og%3D19221&rct=j&q=&esrc=s&sa=U&ved=0ahUKEwi9sNqz8qj3AhV4p5UCHTaxAnYQgOUECJEO&usg=AOvVaw1k2PJ3-3-ZaVuCq9zXkZX0\n",
      "Iphone 12 - Azul 64gb | Celular Apple R$ 4.150,00 https://www.google.com/url?url=https://www.enjoei.com.br/p/iphone-12-azul-64gb-68915647%3Fg_campaign%3Dgoogle_shopping&rct=j&q=&esrc=s&sa=U&ved=0ahUKEwi9sNqz8qj3AhV4p5UCHTaxAnYQgOUECKAO&usg=AOvVaw3Mh6CZ2puH1FpytVU8M8Sb\n",
      "iPhone 12 Apple 64GB - Preto Tela 6,1\" 12MP iOS - - Preto R$ 4.799,00 https://www.google.com/url?url=https://www.shoppingsmiles.com.br/smiles/produto.jsf%3Fs%3D2311473-00%26p%3D2311473_8%26a%3Dtrue&rct=j&q=&esrc=s&sa=U&ved=0ahUKEwi9sNqz8qj3AhV4p5UCHTaxAnYQgOUECK8O&usg=AOvVaw2k9OcHc4Ev2BXC_ILZ4ddo\n",
      "iPhone 12 64GB R$ 4.505,40 https://www.google.com/url?url=https://wantimport.com/loja/apple/iphone/iphone-12/&rct=j&q=&esrc=s&sa=U&ved=0ahUKEwi9sNqz8qj3AhV4p5UCHTaxAnYQguUECL8O&usg=AOvVaw2a9W_pJD7kESoqIJtRkY9U\n",
      "iPhone 11 Apple (64GB) Preto Tela 6,1\" 4G Câmera 12MP iOS R$ 3.599,99 https://www.google.com/url?url=https://intecloja.com/index.php/product/iphone-11-apple-64gb-preto-tela-61-4g-camera-12mp-ios/%3Futm_source%3DGoogle%2520Shopping%26utm_campaign%3D490%2520produtos%26utm_medium%3Dcpc%26utm_term%3D11928&rct=j&q=&esrc=s&sa=U&ved=0ahUKEwi9sNqz8qj3AhV4p5UCHTaxAnYQgOUECM8O&usg=AOvVaw3S6nfi7cu0Gi-EdygSk5Fw\n",
      "Iphone 12 64 Gb | Celular Apple | Usado R$ 4.650,00 https://www.google.com/url?url=https://www.enjoei.com.br/p/iphone-12-64-gb-68496460%3Fg_campaign%3Dgoogle_shopping&rct=j&q=&esrc=s&sa=U&ved=0ahUKEwi9sNqz8qj3AhV4p5UCHTaxAnYQgOUECN4O&usg=AOvVaw3mNiXDX7BvXD8Uz-pLLq2V\n",
      "iPhone 12 64gb Vermelho - Vitrine R$ 4.600,00 https://www.google.com/url?url=https://www.yumetech.com.br/iphone-12-64gb-vermelho---vitrine&rct=j&q=&esrc=s&sa=U&ved=0ahUKEwi9sNqz8qj3AhV4p5UCHTaxAnYQgOUECO4O&usg=AOvVaw1r7DZf0uVfOzazZw5rjI8K\n",
      "iPhone 11 Tela 6.1'' / 12MP / iOS 13 Vermelho / 64GB / Vitrine R$ 3.790,00 https://www.google.com/url?url=https://www.williameletronicos.com.br/products/iphone-11%3Fvariant%3D39875975118948%26currency%3DBRL%26utm_medium%3Dproduct_sync%26utm_source%3Dgoogle%26utm_content%3Dsag_organic%26utm_campaign%3Dsag_organic&rct=j&q=&esrc=s&sa=U&ved=0ahUKEwi9sNqz8qj3AhV4p5UCHTaxAnYQgOUECPwO&usg=AOvVaw2iGgBThWHRcYgT7FKCv79C\n",
      "iPhone 12 64GB Branco, 5G, Tela de 6.1, Câmera Dupla 12MP + Selfie 12MP - MGJ63BR ... R$ 5.262,11 https://www.google.com/url?url=https://www.magazineluiza.com.br/iphone-12-64gb-branco-5g-tela-de-6-1-camera-dupla-12mp-selfie-12mp-mgj63br-a-apple/p/akh0f1efg6/te/ip12/%3F%26seller_id%3Dkabum&rct=j&q=&esrc=s&sa=U&ved=0ahUKEwi9sNqz8qj3AhV4p5UCHTaxAnYQgOUECIsP&usg=AOvVaw1UWW6YF-nTIXA5SCt__xXp\n",
      "iPhone 12 Apple Preto, 64GB Desbloqueado - MGJ53BR/A R$ 5.908,32 https://www.google.com/url?url=https://www.zoom.com.br/lead%3Foid%3D615458947%26sortorder%3D-1%26index%3D%26searchterm%3Dnull%26pagesize%3D-1%26channel%3D%26og%3D19221&rct=j&q=&esrc=s&sa=U&ved=0ahUKEwi9sNqz8qj3AhV4p5UCHTaxAnYQgOUECJoP&usg=AOvVaw0MwbQksu9XQBM_HpEGNAxm\n"
     ]
    },
    {
     "name": "stdout",
     "output_type": "stream",
     "text": [
      "Iphone 12 Mini 64gb | Celular Apple | Usado R$ 4.550,00 https://www.google.com/url?url=https://www.enjoei.com.br/p/iphone-12-mini-64gb-69639315%3Fg_campaign%3Dgoogle_shopping&rct=j&q=&esrc=s&sa=U&ved=0ahUKEwi9sNqz8qj3AhV4p5UCHTaxAnYQgOUECKkP&usg=AOvVaw0h02zeEqu0YEWMo49oRiA8\n",
      "IPhone 12 64GB 5G 6.1 Super Retina xdr oled Câmera Dupla 12MP Selfie 12MP ios 15 ... R$ 5.098,89 https://www.google.com/url?url=https://www.americanas.com.br/produto/4909422176%3Fopn%3DYSMESP%26srsltid%3DAWLEVJxSfsBtXC8RShbCSWk0a_R0p56PLNo_ies39HrBdb_1RUgKd76Wv3M&rct=j&q=&esrc=s&sa=U&ved=0ahUKEwi9sNqz8qj3AhV4p5UCHTaxAnYQgOUECLkP&usg=AOvVaw3SnsHWqcaRzVo5DA8dS9gw\n",
      "iPhone 12 Apple 64GB - Azul Tela 6,1\" 12MP iOS - - Azul R$ 4.799,00 https://www.google.com/url?url=https://www.shoppingsmiles.com.br/smiles/produto.jsf%3Fs%3D2311476-00%26p%3D2311476_8%26a%3Dtrue&rct=j&q=&esrc=s&sa=U&ved=0ahUKEwi9sNqz8qj3AhV4p5UCHTaxAnYQgOUECMgP&usg=AOvVaw1N-efZiPAJERaaWLY40Etw\n",
      "iPhone 11 Apple Tela 6,1\" 4G Câmera 12MP iOS 64GB / Roxo R$ 3.299,00 https://www.google.com/url?url=https://www.boxtudo.com.br/products/apple-iphone-11-original%3Fvariant%3D42696954904813%26currency%3DBRL%26utm_medium%3Dproduct_sync%26utm_source%3Dgoogle%26utm_content%3Dsag_organic%26utm_campaign%3Dsag_organic&rct=j&q=&esrc=s&sa=U&ved=0ahUKEwi9sNqz8qj3AhV4p5UCHTaxAnYQgOUECNcP&usg=AOvVaw2HzrzHb8eM5asnNGxDCUbu\n",
      "Apple Iphone 12 Mini 4gb/64gb 5.4 R$ 2.831,99 https://www.google.com/url?url=https://www.tradeinn.com/techinn/pt/apple-iphone-12-mini-4gb-64gb-5.4/137821887/p%3Futm_source%3Dgoogle_products%26utm_medium%3Dmerchant%26id_producte%3D11865374%26country%3Dbr&rct=j&q=&esrc=s&sa=U&ved=0ahUKEwi9sNqz8qj3AhV4p5UCHTaxAnYQgOUECOYP&usg=AOvVaw3oIJJZARwW11cbLrIkchDG\n",
      "Vitrine Apple Iphone 12 64gb Preto com Nfe e Pronta entrega R$ 5.490,00 https://www.google.com/url?url=https://www.submarino.com.br/produto/4829610484%3Fopn%3DXMLGOOGLE%26offerId%3D6238c085d9f593c3e86cb6f6&rct=j&q=&esrc=s&sa=U&ved=0ahUKEwi9sNqz8qj3AhV4p5UCHTaxAnYQgOUECPUP&usg=AOvVaw0fLTnWpP0vkom84YxcfbV8\n",
      "Apple Iphone 12 (64Gb) - Verde R$ 5.074,00 https://www.google.com/url?url=https://www.carrefour.com.br/appleiphone1264gbverde-mp923308290/p&rct=j&q=&esrc=s&sa=U&ved=0ahUKEwi9sNqz8qj3AhV4p5UCHTaxAnYQgOUECIQQ&usg=AOvVaw1MJfeQKNeFNVW-5G60ldGO\n",
      "iPhone 11 Tela 6.1'' / 12MP / iOS 13 Branco / 64GB / Vitrine R$ 3.790,00 https://www.google.com/url?url=https://www.williameletronicos.com.br/products/iphone-11%3Fvariant%3D39648415154276%26currency%3DBRL%26utm_medium%3Dproduct_sync%26utm_source%3Dgoogle%26utm_content%3Dsag_organic%26utm_campaign%3Dsag_organic&rct=j&q=&esrc=s&sa=U&ved=0ahUKEwi9sNqz8qj3AhV4p5UCHTaxAnYQgOUECJIQ&usg=AOvVaw1VDrK3ln9HbbZuQgF25LpK\n",
      "Iphone 12, 64 GB - Verde R$ 6.209,00 https://www.google.com/url?url=https://www.kabum.com.br/produto/240293/iphone-12-64-gb-verde%3Fsrsltid%3DAWLEVJws_wDhUbaAUwKj1DrA3aBfEB-Nb33O0-UfQoclxwt0JfEtZkO4dOg&rct=j&q=&esrc=s&sa=U&ved=0ahUKEwi9sNqz8qj3AhV4p5UCHTaxAnYQgOUECKEQ&usg=AOvVaw3V2b13wSVNJeZiiq3THm_Z\n",
      "iPhone 12 Vermelho, Com Tela de 6,1, 5G, 64 Gb e Câmera Dupla de 12MP Ultra ... R$ 5.030,44 https://www.google.com/url?url=https://www.shoptime.com.br/produto/4209516809%3Fopn%3DGOOGLEXML&rct=j&q=&esrc=s&sa=U&ved=0ahUKEwi9sNqz8qj3AhV4p5UCHTaxAnYQguUECLAQ&usg=AOvVaw3yu9PE4fNEnAZ2PBuUkDeB\n",
      "iPhone 11 64GB Ios 4G Câmera 12MP - Apple Amarelo R$ 4.999,00 https://www.google.com/url?url=https://www.apple.com/br/xc/product/MHDE3%3Fcid%3Daos-br-seo-pla&rct=j&q=&esrc=s&sa=U&ved=0ahUKEwi9sNqz8qj3AhV4p5UCHTaxAnYQguUECMEQ&usg=AOvVaw1G5zGASlYFgbrkI5RCPpA8\n",
      "iPhone 12 Apple Azul, 64GB Desbloqueado - MGJ83BR/A R$ 5.908,32 https://www.google.com/url?url=https://www.zoom.com.br/lead%3Foid%3D615448151%26sortorder%3D-1%26index%3D%26searchterm%3Dnull%26pagesize%3D-1%26channel%3D%26og%3D19221&rct=j&q=&esrc=s&sa=U&ved=0ahUKEwi9sNqz8qj3AhV4p5UCHTaxAnYQgOUECNEQ&usg=AOvVaw2BLyS9xWTap-nt14EXmEPq\n",
      "Iphone 12 64 Gb Verde | Celular Apple | Usado R$ 4.450,00 https://www.google.com/url?url=https://www.enjoei.com.br/p/iphone-12-64-gb-verde-68705317%3Fg_campaign%3Dgoogle_shopping&rct=j&q=&esrc=s&sa=U&ved=0ahUKEwi9sNqz8qj3AhV4p5UCHTaxAnYQgOUECOAQ&usg=AOvVaw2HNWoBKpJ2lSUpqHA5CRzF\n",
      "iPhone 12 64GB Roxo, 5G, 6.1, 12MP - MJNM3BR/A - Apple R$ 5.262,11 https://www.google.com/url?url=https://www.magazineluiza.com.br/iphone-12-64gb-roxo-5g-6-1-12mp-mjnm3br-a-apple/p/cj5b9eah4a/rc/rcnm/%3F%26seller_id%3Dkabum&rct=j&q=&esrc=s&sa=U&ved=0ahUKEwi9sNqz8qj3AhV4p5UCHTaxAnYQgOUECPAQ&usg=AOvVaw2A5Rd82dHTSL2sAT9cIQH-\n",
      "iPhone 12 seminovo R$ 4.490,00 https://www.google.com/url?url=https://www.webstorebrazil.com/iphone-12-seminovo&rct=j&q=&esrc=s&sa=U&ved=0ahUKEwi9sNqz8qj3AhV4p5UCHTaxAnYQgOUECP8Q&usg=AOvVaw0aH3b-hzEKWax4EeuKNeNS\n",
      "IPHONE 12 64G R$ 4.600,00 https://www.google.com/url?url=https://www.importsdowntown.com.br/produto/iphone-12-64g.html%3Futm_source%3DSite%26utm_medium%3DGoogleMerchant%26utm_campaign%3DGoogleMerchant&rct=j&q=&esrc=s&sa=U&ved=0ahUKEwi9sNqz8qj3AhV4p5UCHTaxAnYQgOUECI0R&usg=AOvVaw2VhvJXfGOUTYnASKzNchh1\n",
      "iPhone 12 64GB Lilás + brinde R$ 4.318,20 https://www.google.com/url?url=https://www.malibushop.com.br/apple/iphone-12-64gb-lilas-brinde%3Fparceiro%3D1538&rct=j&q=&esrc=s&sa=U&ved=0ahUKEwi9sNqz8qj3AhV4p5UCHTaxAnYQgOUECJ4R&usg=AOvVaw3eizsuPUqiGbAHJ-RFmN6E\n",
      "IPHONE 12 64GB Preto Aparelho Novo Ativado R$ 4.199,99 https://www.google.com/url?url=https://www.tudodaamerica.com.br/iphone-12-64gb-preto&rct=j&q=&esrc=s&sa=U&ved=0ahUKEwi9sNqz8qj3AhV4p5UCHTaxAnYQgOUECK0R&usg=AOvVaw1lh0NuFEyJM5jxmPJiPpem\n",
      "iPhone 11 Apple Tela 6,1\" 4G Câmera 12MP iOS 64GB / Preto R$ 3.299,00 https://www.google.com/url?url=https://www.boxtudo.com.br/products/apple-iphone-11-original%3Fvariant%3D42696955068653%26currency%3DBRL%26utm_medium%3Dproduct_sync%26utm_source%3Dgoogle%26utm_content%3Dsag_organic%26utm_campaign%3Dsag_organic&rct=j&q=&esrc=s&sa=U&ved=0ahUKEwi9sNqz8qj3AhV4p5UCHTaxAnYQgOUECLwR&usg=AOvVaw2wjXiKGpj4eyC7jgxH2Sqb\n",
      "iPhone 12 64gb Preto - Vitrine R$ 4.600,00 https://www.google.com/url?url=https://www.yumetech.com.br/iphone-12-64gb-preto---vitrine&rct=j&q=&esrc=s&sa=U&ved=0ahUKEwi9sNqz8qj3AhV4p5UCHTaxAnYQgOUECMsR&usg=AOvVaw2H7nZj__jlMKhBBQv4Gdcx\n",
      "iPhone 12 Apple 64GB - PRODUCT (RED) - Tela 6,1\" 12MP iOS - (Product)RED R$ 4.699,00 https://www.google.com/url?url=https://www.shoppingsmiles.com.br/smiles/produto.jsf%3Fs%3D2311475-00%26p%3D2311475_8%26a%3Dtrue&rct=j&q=&esrc=s&sa=U&ved=0ahUKEwi9sNqz8qj3AhV4p5UCHTaxAnYQgOUECNgR&usg=AOvVaw1961R6HpTgd0PWOuz7MY9D\n",
      "iPhone 11 Tela 6.1'' / 12MP / iOS 13 Preto / 64GB / Vitrine R$ 3.790,00 https://www.google.com/url?url=https://www.williameletronicos.com.br/products/iphone-11%3Fvariant%3D39648415088740%26currency%3DBRL%26utm_medium%3Dproduct_sync%26utm_source%3Dgoogle%26utm_content%3Dsag_organic%26utm_campaign%3Dsag_organic&rct=j&q=&esrc=s&sa=U&ved=0ahUKEwi9sNqz8qj3AhV4p5UCHTaxAnYQgOUECOYR&usg=AOvVaw2kPT0PTyBgHQGRFXgBYc1y\n",
      "IPhone 12 64GB 6.1 A2403 MGJ63ZD/A Branco Envio Já! Oferta! R$ 8.190,00 https://www.google.com/url?url=https://www.submarino.com.br/produto/4939741910%3Fopn%3DXMLGOOGLE%26offerId%3D625e6fa5d9f593c3e82afcb1&rct=j&q=&esrc=s&sa=U&ved=0ahUKEwi9sNqz8qj3AhV4p5UCHTaxAnYQgOUECPUR&usg=AOvVaw3vxXOBD9MzZCGfAoarkaH8\n",
      "Apple Iphone 12 (64Gb) - Preto R$ 5.074,00 https://www.google.com/url?url=https://www.carrefour.com.br/appleiphone1264gbpreto-mp923308292/p&rct=j&q=&esrc=s&sa=U&ved=0ahUKEwi9sNqz8qj3AhV4p5UCHTaxAnYQgOUECIQS&usg=AOvVaw0b-CH807agaotoAZ4sbITW\n",
      "iPhone 12 6.1 Polegadas / 64gb / Lilás R$ 5.430,00 https://www.google.com/url?url=https://vcellprime.com.br/iphone-11-64gb-c386-c563-c642&rct=j&q=&esrc=s&sa=U&ved=0ahUKEwi9sNqz8qj3AhV4p5UCHTaxAnYQgOUECJMS&usg=AOvVaw13L_2CpeOvXhWgMUkfklNz\n",
      "Smartphone Apple iPhone 12 64 GB Azul R$ 4.899,00 https://www.google.com/url?url=https://www.shopfacil.com.br/smartphone-apple-iphone-12-64-gb-azul-1171779005/p%3Fseller%3D004486803%26sellerId%3D004486803%26idsku%3D7453717%26lu%3D20220422184437&rct=j&q=&esrc=s&sa=U&ved=0ahUKEwi9sNqz8qj3AhV4p5UCHTaxAnYQgOUECKIS&usg=AOvVaw3enDBG0HCvwN5EkVVyPruA\n",
      "Iphone 12 - 64 Gb - Purple - Seminovo Top De Linha | Celular Apple | Usado R$ 4.114,00 https://www.google.com/url?url=https://www.enjoei.com.br/p/iphone-12-64-gb-purple-seminovo-68812327%3Fg_campaign%3Dgoogle_shopping&rct=j&q=&esrc=s&sa=U&ved=0ahUKEwi9sNqz8qj3AhV4p5UCHTaxAnYQgOUECLES&usg=AOvVaw2Dt3Tb7ehC2UhatYA2FVuZ\n",
      "iPhone 12 - 64 GB, Azul R$ 4.190,02 https://www.google.com/url?url=https://wantimport.com/loja/apple/iphone/iphone-12/%3Fattribute_pa_gb%3D64-gb%26attribute_pa_cor%3Dazul&rct=j&q=&esrc=s&sa=U&ved=0ahUKEwi9sNqz8qj3AhV4p5UCHTaxAnYQgOUECMIS&usg=AOvVaw1yDZlDPrJiXMBICEih5611\n"
     ]
    },
    {
     "name": "stdout",
     "output_type": "stream",
     "text": [
      "TeamVL Celulares e Eletrônicos | Apple iPhone 12 (64 GB) - Verde R$ 5.099,90 https://www.google.com/url?url=https://www.teamvlcel.com.br/product/1417305/iphone-12-64gb-verde-lacrado&rct=j&q=&esrc=s&sa=U&ved=0ahUKEwi9sNqz8qj3AhV4p5UCHTaxAnYQgOUECNES&usg=AOvVaw2JU8yGqfzRmr80rt7fOcmg\n",
      "iPhone 12 Lacrado White 64 GB R$ 5.697,00 https://www.google.com/url?url=https://dalcell.com.br/products/copia-de-iphone-12-128gb%3Fvariant%3D39507381977166%26currency%3DBRL%26utm_medium%3Dproduct_sync%26utm_source%3Dgoogle%26utm_content%3Dsag_organic%26utm_campaign%3Dsag_organic&rct=j&q=&esrc=s&sa=U&ved=0ahUKEwi9sNqz8qj3AhV4p5UCHTaxAnYQgOUECOAS&usg=AOvVaw2HU3piX0KTd2ETdT-2g05X\n",
      "iPhone 12 64GB Vermelho, 5G, 6.1, 12MP - MGJ73BR/A - Apple R$ 5.262,11 https://www.google.com/url?url=https://www.magazineluiza.com.br/iphone-12-64gb-vermelho-5g-6-1-12mp-mgj73br-a-apple/p/hk18gda83k/te/ceba/%3F%26seller_id%3Dkabum&rct=j&q=&esrc=s&sa=U&ved=0ahUKEwi9sNqz8qj3AhV4p5UCHTaxAnYQgOUECO8S&usg=AOvVaw2cGeRldTgVnFAfABVu3OZt\n",
      "Iphone 12 Mini Apple 64GB Preto, Tela 5.4\" iOS 14 R$ 5.506,00 https://www.google.com/url?url=https://www.bemol.com.br/iphone-12-mini-apple-64gb-preto-tela-6-1-ios-14-p1079453%3Ftsid%3D16&rct=j&q=&esrc=s&sa=U&ved=0ahUKEwi9sNqz8qj3AhV4p5UCHTaxAnYQgOUECPwS&usg=AOvVaw0I0waXUerGVtWay8fmiG-k\n",
      "iPhone Xr 64GB Preto, Com Tela de 6,1, 4G e Câmera de 12 Mp - MH6M3BR/A R$ 5.153,40 https://www.google.com/url?url=https://www.onstores.com.br/iphone-xr-64gb-preto-com-tela-de-61--4g-e-camera-de-12-mp---mh6m3br-a-540715/p%3Fidsku%3D631265&rct=j&q=&esrc=s&sa=U&ved=0ahUKEwi9sNqz8qj3AhV4p5UCHTaxAnYQguUECIwT&usg=AOvVaw1Myx-wupMgD2bS9NlJTNxI\n"
     ]
    }
   ],
   "source": [
    "#pegando valor do produto/ Nome produto/ Link do produto\n",
    "\n",
    "lista_resultados = driver.find_elements(By.CLASS_NAME, 'sh-dgr__grid-result')\n",
    "\n",
    "for resultado in lista_resultados:\n",
    "  \n",
    "    preco = resultado.find_element(By.CLASS_NAME, 'a8Pemb').text\n",
    "    nome = resultado.find_element(By.CLASS_NAME, 'Xjkr3b').text\n",
    "    elemento_link= resultado.find_element(By.CLASS_NAME, 'aULzUe')\n",
    "    elemento_pai= elemento_link.find_element (By.XPATH, '..')\n",
    "    link = elemento_pai.get_attribute('href')\n",
    "    print(nome, preco, link)\n",
    "    \n"
   ]
  },
  {
   "cell_type": "code",
   "execution_count": null,
   "metadata": {},
   "outputs": [],
   "source": []
  },
  {
   "cell_type": "markdown",
   "metadata": {},
   "source": [
    "### Passo 3: Procurar no buscapé\n",
    "#### Verificar se os produtos estão dentro da faixa de preço"
   ]
  },
  {
   "cell_type": "code",
   "execution_count": null,
   "metadata": {},
   "outputs": [],
   "source": []
  },
  {
   "cell_type": "markdown",
   "metadata": {},
   "source": [
    "### Passo 4: Salvar as ofertas boas em um dataframe"
   ]
  },
  {
   "cell_type": "code",
   "execution_count": null,
   "metadata": {},
   "outputs": [],
   "source": []
  },
  {
   "cell_type": "markdown",
   "metadata": {},
   "source": [
    "### Passo 5: exportar pro Excel"
   ]
  },
  {
   "cell_type": "code",
   "execution_count": null,
   "metadata": {},
   "outputs": [],
   "source": []
  },
  {
   "cell_type": "markdown",
   "metadata": {},
   "source": [
    "### Passo 6: enviar por e-mail o resultado da tabela\n"
   ]
  },
  {
   "cell_type": "code",
   "execution_count": null,
   "metadata": {},
   "outputs": [],
   "source": [
    "\n"
   ]
  }
 ],
 "metadata": {
  "kernelspec": {
   "display_name": "Python 3",
   "language": "python",
   "name": "python3"
  },
  "language_info": {
   "codemirror_mode": {
    "name": "ipython",
    "version": 3
   },
   "file_extension": ".py",
   "mimetype": "text/x-python",
   "name": "python",
   "nbconvert_exporter": "python",
   "pygments_lexer": "ipython3",
   "version": "3.8.8"
  }
 },
 "nbformat": 4,
 "nbformat_minor": 4
}
