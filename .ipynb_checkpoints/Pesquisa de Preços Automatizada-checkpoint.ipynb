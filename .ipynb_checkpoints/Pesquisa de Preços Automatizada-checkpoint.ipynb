{
 "cells": [
  {
   "cell_type": "markdown",
   "metadata": {},
   "source": [
    "# Projeto Automação Web - Busca de Preços\n",
    "\n",
    "### Objetivo: treinar um projeto em que a gente tenha que usar automações web com Selenium para buscar as informações que precisamos\n",
    "\n",
    "- Já fizemos um projeto com esse objetivo no Módulo de Python e Web e em gravações de encontros ao vivo, mas não custa nada treinar mais um pouco.\n",
    "\n",
    "### Como vai funcionar:\n",
    "\n",
    "- Imagina que você trabalha na área de compras de uma empresa e precisa fazer uma comparação de fornecedores para os seus insumos/produtos.\n",
    "\n",
    "- Nessa hora, você vai constantemente buscar nos sites desses fornecedores os produtos disponíveis e o preço, afinal, cada um deles pode fazer promoção em momentos diferentes e com valores diferentes.\n",
    "\n",
    "- Seu objetivo: Se o valor dos produtos for abaixo de um preço limite definido por você, você vai descobrir os produtos mais baratos e atualizar isso em uma planilha.\n",
    "- Em seguida, vai enviar um e-mail com a lista dos produtos abaixo do seu preço máximo de compra.\n",
    "\n",
    "- No nosso caso, vamos fazer com produtos comuns em sites como Google Shopping e Buscapé, mas a ideia é a mesma para outros sites.\n",
    "\n",
    "### Outra opção:\n",
    "\n",
    "- APIs\n",
    "\n",
    "### O que temos disponível?\n",
    "\n",
    "- Planilha de Produtos, com os nomes dos produtos, o preço máximo, o preço mínimo (para evitar produtos \"errados\" ou \"baratos de mais para ser verdade\" e os termos que vamos querer evitar nas nossas buscas.\n",
    "\n",
    "### O que devemos fazer:\n",
    "\n",
    "- Procurar cada produto no Google Shopping e pegar todos os resultados que tenham preço dentro da faixa e sejam os produtos corretos\n",
    "- O mesmo para o Buscapé\n",
    "- Enviar um e-mail para o seu e-mail (no caso da empresa seria para a área de compras por exemplo) com a notificação e a tabela com os itens e preços encontrados, junto com o link de compra. (Vou usar o e-mail pythonimpressionador@gmail.com. Use um e-mail seu para fazer os testes para ver se a mensagem está chegando)"
   ]
  },
  {
   "cell_type": "markdown",
   "metadata": {},
   "source": [
    "### Passo 1: Criar um navegador"
   ]
  },
  {
   "cell_type": "code",
   "execution_count": 93,
   "metadata": {},
   "outputs": [],
   "source": [
    "from selenium import webdriver\n",
    "from selenium.webdriver.common.by import By\n",
    "from selenium.webdriver.common.keys import Keys\n",
    "import pandas as pd\n",
    "driver = webdriver.Chrome()\n",
    "\n"
   ]
  },
  {
   "cell_type": "markdown",
   "metadata": {},
   "source": [
    "### Passo 2: Importar/visualizar base de dados"
   ]
  },
  {
   "cell_type": "code",
   "execution_count": 94,
   "metadata": {},
   "outputs": [
    {
     "data": {
      "text/html": [
       "<div>\n",
       "<style scoped>\n",
       "    .dataframe tbody tr th:only-of-type {\n",
       "        vertical-align: middle;\n",
       "    }\n",
       "\n",
       "    .dataframe tbody tr th {\n",
       "        vertical-align: top;\n",
       "    }\n",
       "\n",
       "    .dataframe thead th {\n",
       "        text-align: right;\n",
       "    }\n",
       "</style>\n",
       "<table border=\"1\" class=\"dataframe\">\n",
       "  <thead>\n",
       "    <tr style=\"text-align: right;\">\n",
       "      <th></th>\n",
       "      <th>Nome</th>\n",
       "      <th>Termos banidos</th>\n",
       "      <th>Preço mínimo</th>\n",
       "      <th>Preço máximo</th>\n",
       "    </tr>\n",
       "  </thead>\n",
       "  <tbody>\n",
       "    <tr>\n",
       "      <th>0</th>\n",
       "      <td>iphone 12 64 gb</td>\n",
       "      <td>mini watch 11</td>\n",
       "      <td>3000</td>\n",
       "      <td>3500</td>\n",
       "    </tr>\n",
       "    <tr>\n",
       "      <th>1</th>\n",
       "      <td>rtx 3060</td>\n",
       "      <td>zota galax</td>\n",
       "      <td>4000</td>\n",
       "      <td>4500</td>\n",
       "    </tr>\n",
       "  </tbody>\n",
       "</table>\n",
       "</div>"
      ],
      "text/plain": [
       "              Nome Termos banidos  Preço mínimo  Preço máximo\n",
       "0  iphone 12 64 gb  mini watch 11          3000          3500\n",
       "1         rtx 3060     zota galax          4000          4500"
      ]
     },
     "metadata": {},
     "output_type": "display_data"
    }
   ],
   "source": [
    "tabela_produtos = pd.read_excel ('buscas.xlsx')\n",
    "display(tabela_produtos)"
   ]
  },
  {
   "cell_type": "markdown",
   "metadata": {},
   "source": [
    "### Passo 3: Procurar no google shopping\n",
    "####         Verificar se os produtos estão dentro da faixa de preço"
   ]
  },
  {
   "cell_type": "code",
   "execution_count": 95,
   "metadata": {},
   "outputs": [],
   "source": [
    "#função do google shopping\n",
    "\n",
    "def busca_google_shopping (driver, produto, banido, preco_min, preco_max):\n",
    "\n",
    "#tratando os termos strings (separando os em uma lista)\n",
    "    produto = produto.lower()\n",
    "    banido= banido.lower()\n",
    "\n",
    "    lista_banidos = banido.split(\" \")\n",
    "    lista_produto = produto.split(\" \")\n",
    "#entrando no google\n",
    "    driver.get('http://www.google.com')\n",
    "    driver.find_element(By.XPATH, '/html/body/div[1]/div[3]/form/div[1]/div[1]/div[1]/div/div[2]/input').send_keys(produto)\n",
    "    driver.find_element(By.XPATH, '/html/body/div[1]/div[3]/form/div[1]/div[1]/div[1]/div/div[2]/input').send_keys(Keys.ENTER)\n",
    "#entrando no botão do shopping\n",
    "    elementos = driver.find_elements(By.CLASS_NAME, 'hdtb-mitem')\n",
    "    for elemento in elementos:\n",
    "        if \"Shopping\" in elemento.text:\n",
    "            elemento.click()\n",
    "            break\n",
    "\n",
    "#pegando resultado da busca\n",
    "\n",
    "    lista_resultados = driver.find_elements(By.CLASS_NAME, 'sh-dgr__grid-result')\n",
    "    lista_ofertas=[]\n",
    "    \n",
    "#Para cada resultado, verificar se corresponde a todas as condicionais   \n",
    "    for resultado in lista_resultados:\n",
    "\n",
    "        nome = resultado.find_element(By.CLASS_NAME, 'Xjkr3b').text\n",
    "        nome=nome.lower()\n",
    "\n",
    "#verificação do nome do produto (se tem termo banido e se tem todos os termos do nome)\n",
    "        tem_termos_banidos = False\n",
    "        for palavra in lista_banidos:\n",
    "            if palavra in nome:\n",
    "                tem_termos_banidos = True\n",
    "\n",
    "        tem_todos_termos_produtos= True\n",
    "        for palavra in lista_produto:\n",
    "            if palavra not in nome:\n",
    "                tem_todos_termos_produtos = False\n",
    "\n",
    "        if not tem_termos_banidos and tem_todos_termos_produtos:\n",
    "#Verificaçao e tratamento do preço\n",
    "            preco = resultado.find_element(By.CLASS_NAME, 'a8Pemb').text\n",
    "            preco = preco.replace (\"R$\", \"\").replace (\" \", \"\").replace (\".\", \"\").replace (\",\",\".\")\n",
    "            preco = float(preco)\n",
    "            preco_max = float(preco_max)\n",
    "            preco_min = float(preco_min)\n",
    "\n",
    "\n",
    "            if preco_min <= preco <= preco_max:\n",
    "                elemento_link= resultado.find_element(By.CLASS_NAME, 'aULzUe')\n",
    "                elemento_pai= elemento_link.find_element (By.XPATH, '..')\n",
    "                link = elemento_pai.get_attribute('href')\n",
    "#atualizaçao da lista de oferta              \n",
    "                lista_ofertas.append((nome,preco,link))\n",
    "    return lista_ofertas"
   ]
  },
  {
   "cell_type": "code",
   "execution_count": 96,
   "metadata": {},
   "outputs": [],
   "source": [
    "produto = 'iphone 12 64 gb'\n",
    "banido= 'mini watch 11'\n",
    "preco_min = 3000\n",
    "preco_max = 3500"
   ]
  },
  {
   "cell_type": "code",
   "execution_count": 97,
   "metadata": {},
   "outputs": [
    {
     "name": "stdout",
     "output_type": "stream",
     "text": [
      "[('iphone 12 azul 64gb | celular apple | usado', 3500.0, 'https://www.google.com/url?url=https://www.enjoei.com.br/p/iphone-12-azul-64gb-69643769%3Fg_campaign%3Dgoogle_shopping&rct=j&q=&esrc=s&sa=U&ved=0ahUKEwib19GEzqr3AhXUiJUCHVlyBCcQgOUECJUN&usg=AOvVaw2DwhhWAqfKnNunM5vffuda')]\n"
     ]
    }
   ],
   "source": [
    "lista_ofertas_google = busca_google_shopping (driver, produto, banido, preco_min, preco_max)\n",
    "print(lista_ofertas_google)      "
   ]
  },
  {
   "cell_type": "markdown",
   "metadata": {},
   "source": [
    "### Passo 3: Procurar no buscapé\n",
    "#### Verificar se os produtos estão dentro da faixa de preço"
   ]
  },
  {
   "cell_type": "code",
   "execution_count": null,
   "metadata": {},
   "outputs": [],
   "source": []
  },
  {
   "cell_type": "markdown",
   "metadata": {},
   "source": [
    "### Passo 4: Salvar as ofertas boas em um dataframe"
   ]
  },
  {
   "cell_type": "code",
   "execution_count": null,
   "metadata": {},
   "outputs": [],
   "source": []
  },
  {
   "cell_type": "markdown",
   "metadata": {},
   "source": [
    "### Passo 5: exportar pro Excel"
   ]
  },
  {
   "cell_type": "code",
   "execution_count": null,
   "metadata": {},
   "outputs": [],
   "source": []
  },
  {
   "cell_type": "markdown",
   "metadata": {},
   "source": [
    "### Passo 6: enviar por e-mail o resultado da tabela\n"
   ]
  },
  {
   "cell_type": "code",
   "execution_count": null,
   "metadata": {},
   "outputs": [],
   "source": [
    "\n"
   ]
  }
 ],
 "metadata": {
  "kernelspec": {
   "display_name": "Python 3",
   "language": "python",
   "name": "python3"
  },
  "language_info": {
   "codemirror_mode": {
    "name": "ipython",
    "version": 3
   },
   "file_extension": ".py",
   "mimetype": "text/x-python",
   "name": "python",
   "nbconvert_exporter": "python",
   "pygments_lexer": "ipython3",
   "version": "3.8.8"
  }
 },
 "nbformat": 4,
 "nbformat_minor": 4
}
