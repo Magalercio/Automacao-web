{
 "cells": [
  {
   "cell_type": "markdown",
   "metadata": {},
   "source": [
    "# Projeto Automação Web - Busca de Preços\n",
    "\n",
    "### Objetivo: treinar um projeto em que a gente tenha que usar automações web com Selenium para buscar as informações que precisamos\n",
    "\n",
    "- Já fizemos um projeto com esse objetivo no Módulo de Python e Web e em gravações de encontros ao vivo, mas não custa nada treinar mais um pouco.\n",
    "\n",
    "### Como vai funcionar:\n",
    "\n",
    "- Imagina que você trabalha na área de compras de uma empresa e precisa fazer uma comparação de fornecedores para os seus insumos/produtos.\n",
    "\n",
    "- Nessa hora, você vai constantemente buscar nos sites desses fornecedores os produtos disponíveis e o preço, afinal, cada um deles pode fazer promoção em momentos diferentes e com valores diferentes.\n",
    "\n",
    "- Seu objetivo: Se o valor dos produtos for abaixo de um preço limite definido por você, você vai descobrir os produtos mais baratos e atualizar isso em uma planilha.\n",
    "- Em seguida, vai enviar um e-mail com a lista dos produtos abaixo do seu preço máximo de compra.\n",
    "\n",
    "- No nosso caso, vamos fazer com produtos comuns em sites como Google Shopping e Buscapé, mas a ideia é a mesma para outros sites.\n",
    "\n",
    "### Outra opção:\n",
    "\n",
    "- APIs\n",
    "\n",
    "### O que temos disponível?\n",
    "\n",
    "- Planilha de Produtos, com os nomes dos produtos, o preço máximo, o preço mínimo (para evitar produtos \"errados\" ou \"baratos de mais para ser verdade\" e os termos que vamos querer evitar nas nossas buscas.\n",
    "\n",
    "### O que devemos fazer:\n",
    "\n",
    "- Procurar cada produto no Google Shopping e pegar todos os resultados que tenham preço dentro da faixa e sejam os produtos corretos\n",
    "- O mesmo para o Buscapé\n",
    "- Enviar um e-mail para o seu e-mail (no caso da empresa seria para a área de compras por exemplo) com a notificação e a tabela com os itens e preços encontrados, junto com o link de compra. (Vou usar o e-mail pythonimpressionador@gmail.com. Use um e-mail seu para fazer os testes para ver se a mensagem está chegando)"
   ]
  },
  {
   "cell_type": "markdown",
   "metadata": {},
   "source": [
    "### Passo 1: Criar um navegador"
   ]
  },
  {
   "cell_type": "code",
   "execution_count": 50,
   "metadata": {},
   "outputs": [],
   "source": [
    "from selenium import webdriver\n",
    "from selenium.webdriver.common.by import By\n",
    "from selenium.webdriver.common.keys import Keys\n",
    "import pandas as pd\n",
    "driver = webdriver.Chrome()\n",
    "\n"
   ]
  },
  {
   "cell_type": "markdown",
   "metadata": {},
   "source": [
    "### Passo 2: Importar/visualizar base de dados"
   ]
  },
  {
   "cell_type": "code",
   "execution_count": 51,
   "metadata": {},
   "outputs": [
    {
     "data": {
      "text/html": [
       "<div>\n",
       "<style scoped>\n",
       "    .dataframe tbody tr th:only-of-type {\n",
       "        vertical-align: middle;\n",
       "    }\n",
       "\n",
       "    .dataframe tbody tr th {\n",
       "        vertical-align: top;\n",
       "    }\n",
       "\n",
       "    .dataframe thead th {\n",
       "        text-align: right;\n",
       "    }\n",
       "</style>\n",
       "<table border=\"1\" class=\"dataframe\">\n",
       "  <thead>\n",
       "    <tr style=\"text-align: right;\">\n",
       "      <th></th>\n",
       "      <th>Nome</th>\n",
       "      <th>Termos banidos</th>\n",
       "      <th>Preço mínimo</th>\n",
       "      <th>Preço máximo</th>\n",
       "    </tr>\n",
       "  </thead>\n",
       "  <tbody>\n",
       "    <tr>\n",
       "      <th>0</th>\n",
       "      <td>iphone 12 64gb</td>\n",
       "      <td>mini watch</td>\n",
       "      <td>3000</td>\n",
       "      <td>3500</td>\n",
       "    </tr>\n",
       "    <tr>\n",
       "      <th>1</th>\n",
       "      <td>rtx 3060</td>\n",
       "      <td>zota galax</td>\n",
       "      <td>4000</td>\n",
       "      <td>4500</td>\n",
       "    </tr>\n",
       "  </tbody>\n",
       "</table>\n",
       "</div>"
      ],
      "text/plain": [
       "             Nome Termos banidos  Preço mínimo  Preço máximo\n",
       "0  iphone 12 64gb     mini watch          3000          3500\n",
       "1        rtx 3060     zota galax          4000          4500"
      ]
     },
     "metadata": {},
     "output_type": "display_data"
    }
   ],
   "source": [
    "tabela_produtos = pd.read_excel ('buscas.xlsx')\n",
    "display(tabela_produtos)"
   ]
  },
  {
   "cell_type": "markdown",
   "metadata": {},
   "source": [
    "### Passo 3: Procurar no google shopping\n",
    "####         Verificar se os produtos estão dentro da faixa de preço"
   ]
  },
  {
   "cell_type": "code",
   "execution_count": 52,
   "metadata": {},
   "outputs": [],
   "source": [
    "produto = 'iphone 12 64gb'\n",
    "driver.get('http://www.google.com')\n",
    "driver.find_element(By.XPATH, '/html/body/div[1]/div[3]/form/div[1]/div[1]/div[1]/div/div[2]/input').send_keys(produto)\n",
    "driver.find_element(By.XPATH, '/html/body/div[1]/div[3]/form/div[1]/div[1]/div[1]/div/div[2]/input').send_keys(Keys.ENTER)"
   ]
  },
  {
   "cell_type": "code",
   "execution_count": 53,
   "metadata": {},
   "outputs": [],
   "source": [
    "#entrando no botão do shopping\n",
    "elementos = driver.find_elements(By.CLASS_NAME, 'hdtb-mitem')\n",
    "for elemento in elementos:\n",
    "    if \"Shopping\" in elemento.text:\n",
    "        elemento.click()\n",
    "        break\n",
    "        "
   ]
  },
  {
   "cell_type": "code",
   "execution_count": 63,
   "metadata": {},
   "outputs": [
    {
     "name": "stdout",
     "output_type": "stream",
     "text": [
      "Apple iPhone 12 (64 GB) - Azul R$ 4.549,00 https://www.google.com/url?url=https://www.iplace.com.br/iphone-12-apple-azul-64gb-mgj83br-a/216223&rct=j&q=&esrc=s&sa=U&ved=0ahUKEwiwgJOl76j3AhUDrZUCHeWvCfsQguUECIoM&usg=AOvVaw2cPYESstdXywKWAWPyFvaj\n",
      "Apple iPhone 12, Preto, 64GB, Tela 6,1 Pol. Câm. Dupla 12MP no Plano Vivo Selfie ... R$ 4.499,00 https://www.google.com/url?url=https://lojaonline.vivo.com.br/vivostorefront/Vivo/Aparelhos/Smartphone/iPhone-12-Apple-Preto,-64GB,-Tela-6-1,-C%25C3%25A2m-Dupla-12MP/p/DGAP13062000%3FbestPlanCode%3DPLPOSPREMI_NFCB%26origem%3Dfeed-google-shopping%26utm_source%3Dgoogle_shopping%26utm_medium%3Dorganic%26utm_campaign%3Dfree_shopping_list&rct=j&q=&esrc=s&sa=U&ved=0ahUKEwiwgJOl76j3AhUDrZUCHeWvCfsQgOUECJoM&usg=AOvVaw3X6x5t65k92ZyXWyTmXZWD\n",
      "iPhone 12 Mini 64 Gb - Branco Apple R$ 4.364,10 https://www.google.com/url?url=https://www.casasbahia.com.br/iphone-12-mini-apple-64gb-branco-tela-de-54-camera-dupla-de-12mp-ios-55014489/p/55014489%3Futm_medium%3DCpc%26utm_source%3Dgoogle_freelisting%26IdSku%3D55014489%26idLojista%3D10037%26tipoLojista%3D1P&rct=j&q=&esrc=s&sa=U&ved=0ahUKEwiwgJOl76j3AhUDrZUCHeWvCfsQguUECKsM&usg=AOvVaw3zIijEdnu2pfJ53c5epaMZ\n",
      "Apple iPhone 12 - 64GB Product (Red) - Vermelho R$ 4.319,10 https://www.google.com/url?url=https://www.americanas.com.br/produto/3591018375%3Fopn%3DYSMESP&rct=j&q=&esrc=s&sa=U&ved=0ahUKEwiwgJOl76j3AhUDrZUCHeWvCfsQguUECL4M&usg=AOvVaw0T62VJhtDJnrsPeSYllxez\n",
      "iPhone 12 Apple (64GB) Azul, Tela de 6,1, 5G e Câmera Dupla de 12 Mp R$ 5.601,63 https://www.google.com/url?url=https://www.carrefour.com.br/iphone-12-azul-64gb-tela-de-61-5g-mgj83br-a/p&rct=j&q=&esrc=s&sa=U&ved=0ahUKEwiwgJOl76j3AhUDrZUCHeWvCfsQguUECM8M&usg=AOvVaw3mWei5wHC4NOJ1aG27Ts8B\n",
      "iPhone 12 Apple 64GB iOS 5G Wi-Fi Tela 6.1'' Câmera 12MP - Preto R$ 4.299,00 https://www.google.com/url?url=https://www.daleshop.com.br/products/iphone-12-apple-64gb-ios-5g-wi-fi-tela-6-1-camera-12mp-preto%3Fvariant%3D42748171387050%26currency%3DBRL%26utm_medium%3Dproduct_sync%26utm_source%3Dgoogle%26utm_content%3Dsag_organic%26utm_campaign%3Dsag_organic&rct=j&q=&esrc=s&sa=U&ved=0ahUKEwiwgJOl76j3AhUDrZUCHeWvCfsQgOUECN8M&usg=AOvVaw0Zgjo85KqQqFDEsaYqNIWn\n",
      "Apple iPhone 12 Mini, 64 gb, Azul - totalmente Desbloqueado (renovado... R$ 2.352,00 https://www.google.com/url?url=https://tiendamia.com/br/producto%3Famz%3DB08PNN2SKF&rct=j&q=&esrc=s&sa=U&ved=0ahUKEwiwgJOl76j3AhUDrZUCHeWvCfsQguUECO8M&usg=AOvVaw1ixxgNRLdojkVOoTPlHcYi\n",
      "iPhone 12 Apple (64GB) Preto Tela 6,1\" 5G Câmera 12MP + 12MP Ios R$ 5.578,97 https://www.google.com/url?url=https://www.submarino.com.br/produto/3614407323%3Fopn%3DXMLGOOGLE&rct=j&q=&esrc=s&sa=U&ved=0ahUKEwiwgJOl76j3AhUDrZUCHeWvCfsQguUECIAN&usg=AOvVaw0h8PB9cucLeXq7v5Fcy-RT\n",
      "Apple iPhone 12 (64GB) - Azul R$ 5.169,32 https://www.google.com/url?url=https://www.zoom.com.br/lead%3Foid%3D587426828%26sortorder%3D-1%26index%3D%26searchterm%3Dnull%26pagesize%3D-1%26channel%3D%26og%3D19221&rct=j&q=&esrc=s&sa=U&ved=0ahUKEwiwgJOl76j3AhUDrZUCHeWvCfsQgOUECJAN&usg=AOvVaw1P62oxg0I0PR2-dMTox-qn\n",
      "iPhone 11 64 Gb - Preto Apple R$ 3.704,05 https://www.google.com/url?url=https://www.extra.com.br/iphone-11-apple-64gb-preto-tela-de-61-camera-dupla-de-12mp-ios-55014764/p/55014764%3Futm_medium%3Dcpc%26utm_source%3Dgoogle_freelisting%26IdSku%3D55014764%26idLojista%3D15%26tipoLojista%3D1P&rct=j&q=&esrc=s&sa=U&ved=0ahUKEwiwgJOl76j3AhUDrZUCHeWvCfsQguUECKEN&usg=AOvVaw0biAcggmZlAiYBmkLbd460\n",
      "Apple iPhone 12, 64 gb, Verde - totalmente Desbloqueado (Renovado) R$ 2.964,00 https://www.google.com/url?url=https://tiendamia.com/br/producto%3Famz%3DB08PP7VXQL&rct=j&q=&esrc=s&sa=U&ved=0ahUKEwiwgJOl76j3AhUDrZUCHeWvCfsQguUECLEN&usg=AOvVaw3UuXy5OA0JL1-GV0VIL3pq\n",
      "Apple iPhone 12 (64GB) - Branco R$ 5.169,32 https://www.google.com/url?url=https://www.zoom.com.br/lead%3Foid%3D587426827%26sortorder%3D-1%26index%3D%26searchterm%3Dnull%26pagesize%3D-1%26channel%3D%26og%3D19221&rct=j&q=&esrc=s&sa=U&ved=0ahUKEwiwgJOl76j3AhUDrZUCHeWvCfsQgOUECMEN&usg=AOvVaw2_SQ-LwmIDg5ZyTcQbyY0-\n",
      "Iphone 12 Mini Apple (64gb) Azul Tela 5,4\" Câmera Dupla 12mp Ios R$ 3.150,00 https://www.google.com/url?url=https://shopmaranhao.com.br/produto/iphone-12-mini-apple-64gb-azul-tela-54-camera-dupla-12mp-ios/&rct=j&q=&esrc=s&sa=U&ved=0ahUKEwiwgJOl76j3AhUDrZUCHeWvCfsQgOUECNAN&usg=AOvVaw3Y7vHYZsSTVV3UURLiZoZR\n",
      "iPhone 12 64GB Branco, 5G, Tela de 6.1, Câmera Dupla 12MP + Selfie 12MP - MGJ63BR ... R$ 5.262,11 https://www.google.com/url?url=https://www.magazineluiza.com.br/iphone-12-64gb-branco-5g-tela-de-6-1-camera-dupla-12mp-selfie-12mp-mgj63br-a-apple/p/akh0f1efg6/te/ip12/%3F%26seller_id%3Dkabum&rct=j&q=&esrc=s&sa=U&ved=0ahUKEwiwgJOl76j3AhUDrZUCHeWvCfsQgOUECN8N&usg=AOvVaw11_1dhGLONjJ40ATi4xTtZ\n",
      "Iphone 12 Azul 64gb | Celular Apple | Usado R$ 3.500,00 https://www.google.com/url?url=https://www.enjoei.com.br/p/iphone-12-azul-64gb-69643769%3Fg_campaign%3Dgoogle_shopping&rct=j&q=&esrc=s&sa=U&ved=0ahUKEwiwgJOl76j3AhUDrZUCHeWvCfsQgOUECO4N&usg=AOvVaw3x2e6hZ9PTrUoxwq7eWbXp\n",
      "Apple Iphone 12 Mini 4gb/64gb 5.4 R$ 2.831,99 https://www.google.com/url?url=https://www.tradeinn.com/techinn/pt/apple-iphone-12-mini-4gb-64gb-5.4/137821887/p%3Futm_source%3Dgoogle_products%26utm_medium%3Dmerchant%26id_producte%3D11865374%26country%3Dbr&rct=j&q=&esrc=s&sa=U&ved=0ahUKEwiwgJOl76j3AhUDrZUCHeWvCfsQgOUECP4N&usg=AOvVaw3jF0Q8uHXBDbdVixwI4NeQ\n",
      "iPhone 11 64GB Preto, Com Tela de 6,1, 4G e Câmera de 12 Mp - MHDA3BR/A R$ 3.920,00 https://www.google.com/url?url=https://www.kabum.com.br/produto/162164/iphone-11-preto-com-tela-de-6-1-4g-64-gb-e-camera-de-12-mp-mhda3br-a%3Fsrsltid%3DAWLEVJwmXQ83gsrcTBrYakUezoxEH-LoeRtypKmqU-mSnfkKIOaPrtadJpQ&rct=j&q=&esrc=s&sa=U&ved=0ahUKEwiwgJOl76j3AhUDrZUCHeWvCfsQguUECI4O&usg=AOvVaw39Vj_7ZvrdNvSfa_RMvEAd\n",
      "iPhone 12 Apple 64GB - Preto Tela 6,1\" 12MP iOS - - Preto R$ 4.799,00 https://www.google.com/url?url=https://www.shoppingsmiles.com.br/smiles/produto.jsf%3Fs%3D2311473-00%26p%3D2311473_8%26a%3Dtrue&rct=j&q=&esrc=s&sa=U&ved=0ahUKEwiwgJOl76j3AhUDrZUCHeWvCfsQgOUECJ4O&usg=AOvVaw3XkrR8Sma923ESTJXfI4uR\n",
      "iPhone 12 Apple - 64GB (Seminovo) BLACK R$ 5.650,00 https://www.google.com/url?url=https://mulherluxuosa1.com.br/products/iphone-12-64gb%3Fvariant%3D42491340554480%26currency%3DBRL%26utm_medium%3Dproduct_sync%26utm_source%3Dgoogle%26utm_content%3Dsag_organic%26utm_campaign%3Dsag_organic&rct=j&q=&esrc=s&sa=U&ved=0ahUKEwiwgJOl76j3AhUDrZUCHeWvCfsQgOUECK0O&usg=AOvVaw1tuXnR5P4mZq2uGLIeysTJ\n",
      "iPhone 11 Apple (64GB) Preto Tela 6,1\" 4G Câmera 12MP iOS R$ 3.599,99 https://www.google.com/url?url=https://intecloja.com/index.php/product/iphone-11-apple-64gb-preto-tela-61-4g-camera-12mp-ios/%3Futm_source%3DGoogle%2520Shopping%26utm_campaign%3D490%2520produtos%26utm_medium%3Dcpc%26utm_term%3D11928&rct=j&q=&esrc=s&sa=U&ved=0ahUKEwiwgJOl76j3AhUDrZUCHeWvCfsQgOUECLwO&usg=AOvVaw0d3Ekm1Xt5K9WewGWeOmu7\n",
      "Iphone 12 - Azul 64gb | Celular Apple R$ 4.150,00 https://www.google.com/url?url=https://www.enjoei.com.br/p/iphone-12-azul-64gb-68915647%3Fg_campaign%3Dgoogle_shopping&rct=j&q=&esrc=s&sa=U&ved=0ahUKEwiwgJOl76j3AhUDrZUCHeWvCfsQgOUECMsO&usg=AOvVaw1Ojo1SIoxs9gGKxzaErF_z\n",
      "iPhone 12 64GB R$ 4.505,40 https://www.google.com/url?url=https://wantimport.com/loja/apple/iphone/iphone-12/&rct=j&q=&esrc=s&sa=U&ved=0ahUKEwiwgJOl76j3AhUDrZUCHeWvCfsQguUECNsO&usg=AOvVaw10thBmtLxUtblNbOqFasza\n",
      "Apple Iphone 12 (64Gb) - Preto R$ 5.074,00 https://www.google.com/url?url=https://www.carrefour.com.br/appleiphone1264gbpreto-mp923308292/p&rct=j&q=&esrc=s&sa=U&ved=0ahUKEwiwgJOl76j3AhUDrZUCHeWvCfsQgOUECOsO&usg=AOvVaw2VpT7cQYc7Gcmpkh9LHxH5\n",
      "iPhone 12 Vermelho, Com Tela de 6,1, 5G, 64 Gb e Câmera Dupla de 12MP Ultra ... R$ 5.030,44 https://www.google.com/url?url=https://www.shoptime.com.br/produto/4209516809%3Fopn%3DGOOGLEXML&rct=j&q=&esrc=s&sa=U&ved=0ahUKEwiwgJOl76j3AhUDrZUCHeWvCfsQguUECPoO&usg=AOvVaw0zzCsshOIHjv_ImYFY2DSC\n",
      "Apple iPhone 12 (64GB) - Verde R$ 5.169,32 https://www.google.com/url?url=https://www.zoom.com.br/lead%3Foid%3D587437290%26sortorder%3D-1%26index%3D%26searchterm%3Dnull%26pagesize%3D-1%26channel%3D%26og%3D19221&rct=j&q=&esrc=s&sa=U&ved=0ahUKEwiwgJOl76j3AhUDrZUCHeWvCfsQgOUECIoP&usg=AOvVaw3ZgOKIla2mFu2ZRuAxDWC1\n",
      "iPhone 12 64GB Azul, 5G, 6.1, 12MP - MGJ83BR/A - Apple R$ 5.262,11 https://www.google.com/url?url=https://www.magazineluiza.com.br/iphone-12-64gb-azul-5g-6-1-12mp-mgj83br-a-apple/p/gbd902hfag/te/ip12/%3F%26seller_id%3Dkabum&rct=j&q=&esrc=s&sa=U&ved=0ahUKEwiwgJOl76j3AhUDrZUCHeWvCfsQgOUECJkP&usg=AOvVaw3_71Caak5Z21uPIPrB_SkT\n",
      "Smartphone Apple iPhone 12 64 GB Azul R$ 4.899,00 https://www.google.com/url?url=https://www.shopfacil.com.br/smartphone-apple-iphone-12-64-gb-azul-1171779005/p%3Fseller%3D004486803%26sellerId%3D004486803%26idsku%3D7453717%26lu%3D20220422184437&rct=j&q=&esrc=s&sa=U&ved=0ahUKEwiwgJOl76j3AhUDrZUCHeWvCfsQgOUECKgP&usg=AOvVaw3CxWCwubnWps-MSX5hsM86\n"
     ]
    },
    {
     "name": "stdout",
     "output_type": "stream",
     "text": [
      "iPhone SE Apple (64GB) RED tela 4.7\" Câmera 12MP iOS R$ 2.399,99 https://www.google.com/url?url=https://intecloja.com/index.php/product/iphone-se-apple-64gb-red-tela-4-7-camera-12mp-ios/%3Futm_source%3DGoogle%2520Shopping%26utm_campaign%3D490%2520produtos%26utm_medium%3Dcpc%26utm_term%3D11937&rct=j&q=&esrc=s&sa=U&ved=0ahUKEwiwgJOl76j3AhUDrZUCHeWvCfsQgOUECLcP&usg=AOvVaw0GeF408NV9LNCE5FHjzW1Y\n",
      "iPhone 11 64GB Ios 4G Câmera 12MP - Apple Amarelo R$ 4.999,00 https://www.google.com/url?url=https://www.apple.com/br/xc/product/MHDE3%3Fcid%3Daos-br-seo-pla&rct=j&q=&esrc=s&sa=U&ved=0ahUKEwiwgJOl76j3AhUDrZUCHeWvCfsQguUECMcP&usg=AOvVaw2I7E0uY9h2avoufk-QYDml\n",
      "iPhone XS Max 64GB 2gb Ram 12MP Cinza Espacial Apple R$ 3.649,99 https://www.google.com/url?url=https://www.americanas.com.br/produto/4924801916%3Fopn%3DYSMESP%26srsltid%3DAWLEVJxWJPYpOP_jBgtOjtWMQZph4UDLnryPAc3KqEaGuEXhqDYzZGqg4EE&rct=j&q=&esrc=s&sa=U&ved=0ahUKEwiwgJOl76j3AhUDrZUCHeWvCfsQguUECNgP&usg=AOvVaw1YJqWmM7muwpm3AO9DUedW\n",
      "Iphone 12 64 Gb Verde | Celular Apple | Usado R$ 4.450,00 https://www.google.com/url?url=https://www.enjoei.com.br/p/iphone-12-64-gb-verde-68705317%3Fg_campaign%3Dgoogle_shopping&rct=j&q=&esrc=s&sa=U&ved=0ahUKEwiwgJOl76j3AhUDrZUCHeWvCfsQgOUECOgP&usg=AOvVaw3tjCi9NFqmnUwoCPwXb98W\n",
      "iPhone 12 Apple 64GB - PRODUCT (RED) - Tela 6,1\" 12MP iOS - (Product)RED R$ 4.699,00 https://www.google.com/url?url=https://www.shoppingsmiles.com.br/smiles/produto.jsf%3Fs%3D2311475-00%26p%3D2311475_8%26a%3Dtrue&rct=j&q=&esrc=s&sa=U&ved=0ahUKEwiwgJOl76j3AhUDrZUCHeWvCfsQgOUECPYP&usg=AOvVaw1Whvq-9Qm1D8M_sKzrGPP1\n",
      "IPHONE APPLE 12/ 64GB/ IOS 5G/ WI-FI/ TELA 6,1\"/ CÂMERA 12MP/ BRANCO - SUPORTE ... R$ 8.659,84 https://www.google.com/url?url=https://www.tjcstore.com.br/iphone-apple-12-64gb-ios-5g-wi-fi-tela-61-camera-12mp-branco-suporte-premium-60-meses&rct=j&q=&esrc=s&sa=U&ved=0ahUKEwiwgJOl76j3AhUDrZUCHeWvCfsQgOUECIUQ&usg=AOvVaw0T9BpBzztBbpzcJG0HEHr2\n",
      "Apple iPhone Se (64 GB) Preto R$ 2.599,00 https://www.google.com/url?url=https://www.fastshop.com.br/web/p/d/AEMHGP3BRAPTO_PRD/iphone-se-preto-64gb-mhgp3bra-fast/%3Fpartner%3Dparceiro-google%26cm_mmc%3Dcpc_Shopping-_-AEMHGP3BRAPTO_PRD&rct=j&q=&esrc=s&sa=U&ved=0ahUKEwiwgJOl76j3AhUDrZUCHeWvCfsQguUECJYQ&usg=AOvVaw20E18sKlZEnbLdPlXzty0w\n",
      "iPhone 12 64GB Roxo, 5G, 6.1, 12MP - MJNM3BR/A - Apple R$ 5.262,11 https://www.google.com/url?url=https://www.magazineluiza.com.br/iphone-12-64gb-roxo-5g-6-1-12mp-mjnm3br-a-apple/p/cj5b9eah4a/rc/rcnm/%3F%26seller_id%3Dkabum&rct=j&q=&esrc=s&sa=U&ved=0ahUKEwiwgJOl76j3AhUDrZUCHeWvCfsQgOUECKYQ&usg=AOvVaw2X93o8Lz4c8ah9ww8ZLiag\n",
      "Iphone 12, 64 GB - Verde R$ 6.209,00 https://www.google.com/url?url=https://www.kabum.com.br/produto/240293/iphone-12-64-gb-verde%3Fsrsltid%3DAWLEVJyDSLgL-_HSlCuKv3xBNbBxDCQbMK0SwHGCL0IpwkZ3itF5Jyi4OHk&rct=j&q=&esrc=s&sa=U&ved=0ahUKEwiwgJOl76j3AhUDrZUCHeWvCfsQgOUECLUQ&usg=AOvVaw2I3qN3cWC5FQYH1pofAB1v\n",
      "iPhone Xr 64GB Preto, Com Tela de 6,1, 4G e Câmera de 12 Mp - MH6M3BR/A R$ 5.153,40 https://www.google.com/url?url=https://www.onstores.com.br/iphone-xr-64gb-preto-com-tela-de-61--4g-e-camera-de-12-mp---mh6m3br-a-540715/p%3Fidsku%3D631265&rct=j&q=&esrc=s&sa=U&ved=0ahUKEwiwgJOl76j3AhUDrZUCHeWvCfsQguUECMUQ&usg=AOvVaw3686uTk5Dsqkq1W9JVk2NE\n",
      "Apple Iphone 12 (64Gb) - Verde R$ 5.074,00 https://www.google.com/url?url=https://www.carrefour.com.br/appleiphone1264gbverde-mp923308290/p&rct=j&q=&esrc=s&sa=U&ved=0ahUKEwiwgJOl76j3AhUDrZUCHeWvCfsQgOUECNUQ&usg=AOvVaw0hNNz77bQSc_ulFPyicfhz\n",
      "Iphone 12 / 64 / Gb | Celular Apple R$ 4.690,00 https://www.google.com/url?url=https://www.enjoei.com.br/p/iphone-12-64-gb-69512646%3Fg_campaign%3Dgoogle_shopping&rct=j&q=&esrc=s&sa=U&ved=0ahUKEwiwgJOl76j3AhUDrZUCHeWvCfsQgOUECOQQ&usg=AOvVaw1XUcjiD4JhE5NC8m-BI51N\n",
      "iPhone 11 Apple (64GB) Branco Tela 6,1\" 4G Câmera 12MP iOS R$ 3.699,99 https://www.google.com/url?url=https://intecloja.com/index.php/product/iphone-11-apple-64gb-branco-tela-61-4g-camera-12mp-ios/%3Futm_source%3DGoogle%2520Shopping%26utm_campaign%3D490%2520produtos%26utm_medium%3Dcpc%26utm_term%3D11927&rct=j&q=&esrc=s&sa=U&ved=0ahUKEwiwgJOl76j3AhUDrZUCHeWvCfsQgOUECPMQ&usg=AOvVaw1IXXsftAds0stojehUU2cz\n",
      "iPhone 12 64gb Preto - Vitrine R$ 4.600,00 https://www.google.com/url?url=https://www.yumetech.com.br/iphone-12-64gb-preto---vitrine&rct=j&q=&esrc=s&sa=U&ved=0ahUKEwiwgJOl76j3AhUDrZUCHeWvCfsQgOUECIIR&usg=AOvVaw3Qr8NvQdZPeb1zmDphWlyU\n",
      "iPhone 12 Apple 64GB - Branco Tela 6,1\" 12MP iOS - - Branco R$ 4.799,00 https://www.google.com/url?url=https://www.shoppingsmiles.com.br/smiles/produto.jsf%3Fs%3D2311474-00%26p%3D2311474_8%26a%3Dtrue&rct=j&q=&esrc=s&sa=U&ved=0ahUKEwiwgJOl76j3AhUDrZUCHeWvCfsQgOUECJER&usg=AOvVaw2ncEJtuPSENantzSLCFzgu\n",
      "Apple iPhone X - 64 GB - Cinza Espacial - GSM R$ 2.549,15 https://www.google.com/url?url=https://www.loija.com.br/iphone-x/iphone-x-cinza-espacial-com-tela-de-5-8-4g-64-gb-e-camera-de-12-mp%3Fparceiro%3D1678&rct=j&q=&esrc=s&sa=U&ved=0ahUKEwiwgJOl76j3AhUDrZUCHeWvCfsQguUECKIR&usg=AOvVaw33zCBgmO256guJUWm0cMvG\n",
      "iPhone 11 Tela 6.1'' / 12MP / iOS 13 Branco / 64GB / Vitrine R$ 3.790,00 https://www.google.com/url?url=https://www.williameletronicos.com.br/products/iphone-11%3Fvariant%3D39648415154276%26currency%3DBRL%26utm_medium%3Dproduct_sync%26utm_source%3Dgoogle%26utm_content%3Dsag_organic%26utm_campaign%3Dsag_organic&rct=j&q=&esrc=s&sa=U&ved=0ahUKEwiwgJOl76j3AhUDrZUCHeWvCfsQgOUECLER&usg=AOvVaw3jKQbRyh0DPPE1D6xYgyXl\n",
      "iPhone 12 Apple 64GB (PRODUCT)RED 6,1 - Câm. Dupla 12MP iOS + AirPods, Red R$ 7.378,00 https://www.google.com/url?url=https://www.magazineluiza.com.br/iphone-12-apple-64gb-product-red-61-cam-dupla-12mp-ios-airpods/p/229429300/te/ip12/%3F%26force%3D12%26seller_id%3Dmagazineluiza&rct=j&q=&esrc=s&sa=U&ved=0ahUKEwiwgJOl76j3AhUDrZUCHeWvCfsQgOUECMAR&usg=AOvVaw1cY-P2to_sagH_stOSAXtT\n",
      "iPhone 12 - 64 GB, Azul R$ 4.190,02 https://www.google.com/url?url=https://wantimport.com/loja/apple/iphone/iphone-12/%3Fattribute_pa_gb%3D64-gb%26attribute_pa_cor%3Dazul&rct=j&q=&esrc=s&sa=U&ved=0ahUKEwiwgJOl76j3AhUDrZUCHeWvCfsQgOUECNAR&usg=AOvVaw0OCU9H0GBzkNzfpscbpNzm\n",
      "iPhone 11 Apple 64GB Roxo, Tela de 6,1, Câmera Dupla de 12MP, iOS R$ 4.349,00 https://www.google.com/url?url=https://www.casasbahia.com.br/iphone-11-apple-64gb-roxo-tela-de-61-camera-dupla-de-12mp-ios-50004402/p/50004402%3Futm_medium%3DCpc%26utm_source%3Dgoogle_freelisting%26IdSku%3D50004402%26idLojista%3D10037%26tipoLojista%3D1P&rct=j&q=&esrc=s&sa=U&ved=0ahUKEwiwgJOl76j3AhUDrZUCHeWvCfsQgOUECN8R&usg=AOvVaw21PL_eP8vVYc4mkLeHxK-9\n",
      "iPhone XR Apple (64GB) Preto Tela 6,1” iOS 12 4G 12MP R$ 3.349,99 https://www.google.com/url?url=https://intecloja.com/index.php/product/iphone-xr-64gb-preto-desbloqueado-ios-12-4g-12mp-apple/%3Futm_source%3DGoogle%2520Shopping%26utm_campaign%3D490%2520produtos%26utm_medium%3Dcpc%26utm_term%3D11938&rct=j&q=&esrc=s&sa=U&ved=0ahUKEwiwgJOl76j3AhUDrZUCHeWvCfsQgOUECO4R&usg=AOvVaw1IHQnirFPv20bvCV8WMpBH\n",
      "Iphone 12 - 64 Gb - Purple - Seminovo Top De Linha | Celular Apple | Usado R$ 4.114,00 https://www.google.com/url?url=https://www.enjoei.com.br/p/iphone-12-64-gb-purple-seminovo-68812327%3Fg_campaign%3Dgoogle_shopping&rct=j&q=&esrc=s&sa=U&ved=0ahUKEwiwgJOl76j3AhUDrZUCHeWvCfsQgOUECP0R&usg=AOvVaw1rAa2oUUhwo9FyTwN8Cfil\n",
      "IPHONE 12 64G R$ 4.600,00 https://www.google.com/url?url=https://www.importsdowntown.com.br/produto/iphone-12-64g.html%3Futm_source%3DSite%26utm_medium%3DGoogleMerchant%26utm_campaign%3DGoogleMerchant&rct=j&q=&esrc=s&sa=U&ved=0ahUKEwiwgJOl76j3AhUDrZUCHeWvCfsQgOUECIsS&usg=AOvVaw3pNzglZOBcKRuI6RoQtqsc\n",
      "iPhone 12 64gb Vermelho - Vitrine R$ 4.600,00 https://www.google.com/url?url=https://www.yumetech.com.br/iphone-12-64gb-vermelho---vitrine&rct=j&q=&esrc=s&sa=U&ved=0ahUKEwiwgJOl76j3AhUDrZUCHeWvCfsQgOUECJoS&usg=AOvVaw2kNcdRcQsoCOv3gHu4sh8A\n",
      "Iphone Se Apple (64gb) (Product)Red Tela 4.7\" Câmera 12mp Ios R$ 1.575,00 https://www.google.com/url?url=https://shopmaranhao.com.br/produto/iphone-se-apple-64gb-productred-tela-4-7-camera-12mp-ios/&rct=j&q=&esrc=s&sa=U&ved=0ahUKEwiwgJOl76j3AhUDrZUCHeWvCfsQgOUECKkS&usg=AOvVaw2xSl06G3GTotZFndx7kE8Q\n",
      "Original Apple iPhone 11 Tela 6,1\" 4G Câmera 12MP iOS 15 Grade AA Vitrine Verde ... R$ 3.699,99 https://www.google.com/url?url=https://conceitoystore.com.br/products/original-apple-iphone-11-tela-6-1-4g-camera-12mp-ios-15-grade-aa-vitrine%3Fvariant%3D41589818228896%26currency%3DBRL%26utm_medium%3Dproduct_sync%26utm_source%3Dgoogle%26utm_content%3Dsag_organic%26utm_campaign%3Dsag_organic&rct=j&q=&esrc=s&sa=U&ved=0ahUKEwiwgJOl76j3AhUDrZUCHeWvCfsQgOUECLgS&usg=AOvVaw1aKWTPTWXwBQlWZCclG3WZ\n",
      "IPHONE 12 64GB Preto Aparelho Novo Ativado R$ 4.199,99 https://www.google.com/url?url=https://www.tudodaamerica.com.br/iphone-12-64gb-preto&rct=j&q=&esrc=s&sa=U&ved=0ahUKEwiwgJOl76j3AhUDrZUCHeWvCfsQgOUECMcS&usg=AOvVaw3OVTOG0hdtLDpj_nEoP9lG\n"
     ]
    },
    {
     "name": "stdout",
     "output_type": "stream",
     "text": [
      "iPhone 12 mini - 64 GB, Cinza espacial R$ 3.990,03 https://www.google.com/url?url=https://wantimport.com/loja/apple/iphone/iphone-12-mini/%3Fattribute_pa_gb%3D64-gb%26attribute_pa_cor%3Dcinza-espacial&rct=j&q=&esrc=s&sa=U&ved=0ahUKEwiwgJOl76j3AhUDrZUCHeWvCfsQgOUECNYS&usg=AOvVaw28T6hcda3R2dKRV9qVlZD_\n",
      "IPhone 12 Apple 64GB iOS 5G Wi-Fi Tela 6.1'' Câmera 12MP - Azul R$ 4.499,00 https://www.google.com/url?url=https://www.shoptime.com.br/produto/4898644282%3Fopn%3DGOOGLEXML&rct=j&q=&esrc=s&sa=U&ved=0ahUKEwiwgJOl76j3AhUDrZUCHeWvCfsQgOUECOUS&usg=AOvVaw3NiJoaV1w4TZ4qmP4qmvTP\n",
      "Iphone 12, 64GB, Meia-noite - Apple R$ 7.150,00 https://www.google.com/url?url=https://www.kabum.com.br/produto/312149/iphone-12-64gb-meia-noite-apple%3Fsrsltid%3DAWLEVJzbn3D1q9XVgK8VWBZrJbNwY44lI7f96g_OTQ6Mfpg3PFcSCdHlO7c&rct=j&q=&esrc=s&sa=U&ved=0ahUKEwiwgJOl76j3AhUDrZUCHeWvCfsQgOUECPQS&usg=AOvVaw1XDR-Qjqbw-dztN3OF_XGS\n",
      "IPhone 12 64GB Tela 6.1 Sem Carregador e Fone Apple R$ 6.380,01 https://www.google.com/url?url=https://www.submarino.com.br/produto/4822474838%3Fopn%3DXMLGOOGLE%26offerId%3D6234dd9ad9f593c3e8ebb0c7&rct=j&q=&esrc=s&sa=U&ved=0ahUKEwiwgJOl76j3AhUDrZUCHeWvCfsQgOUECIMT&usg=AOvVaw1abr1YIhoRg_Zq9Ol0eAGk\n",
      "iPhone 12 Apple 64GB - Verde Tela 6,1\" 12MP iOS - - Verde R$ 4.599,99 https://www.google.com/url?url=https://www.shoppingsmiles.com.br/smiles/produto.jsf%3Fs%3D2311477-00%26p%3D2311477_8%26a%3Dtrue&rct=j&q=&esrc=s&sa=U&ved=0ahUKEwiwgJOl76j3AhUDrZUCHeWvCfsQgOUECJIT&usg=AOvVaw2l9gKtTUngPikho1UuDKTw\n",
      "Iphone xr Original 2942mah ram 3gb rom 64gb/128gb/256g desbloqueado 4g lte 6.1 ... R$ 2.449,99 https://www.google.com/url?url=https://diversidadescentral.com.br/produto/iphone-xr-original-2942mah-ram-3gb-rom-64gb-128gb-256g-desbloqueado-4g-lte-6-1-hexa-core-12mp-7mp/%3Fattribute_pa_pacote%3D64gb%26attribute_pa_cor%3Dyellow%26srsltid%3DAWLEVJwEwP_hoJ16Y_7fAE9cs6aaA67wyxBblFIV55aVVUpc47LlQLbXEsQ&rct=j&q=&esrc=s&sa=U&ved=0ahUKEwiwgJOl76j3AhUDrZUCHeWvCfsQgOUECKET&usg=AOvVaw2G5cV1qoAicHojePlbseXQ\n"
     ]
    }
   ],
   "source": [
    "#pegando valor do produto/ Nome produto/ Link do produto\n",
    "\n",
    "lista_resultados = driver.find_elements(By.CLASS_NAME, 'sh-dgr__grid-result')\n",
    "\n",
    "for resultado in lista_resultados:\n",
    "  \n",
    "    preco = resultado.find_element(By.CLASS_NAME, 'a8Pemb').text\n",
    "    nome = resultado.find_element(By.CLASS_NAME, 'Xjkr3b').text\n",
    "    elemento_link= resultado.find_element(By.CLASS_NAME, 'aULzUe')\n",
    "    elemento_pai= elemento_link.find_element (By.XPATH, '..')\n",
    "    link = elemento_pai.get_attribute('href')\n",
    "    print(nome, preco, link)\n",
    "    \n"
   ]
  },
  {
   "cell_type": "code",
   "execution_count": null,
   "metadata": {},
   "outputs": [],
   "source": []
  },
  {
   "cell_type": "markdown",
   "metadata": {},
   "source": [
    "### Passo 3: Procurar no buscapé\n",
    "#### Verificar se os produtos estão dentro da faixa de preço"
   ]
  },
  {
   "cell_type": "code",
   "execution_count": null,
   "metadata": {},
   "outputs": [],
   "source": []
  },
  {
   "cell_type": "markdown",
   "metadata": {},
   "source": [
    "### Passo 4: Salvar as ofertas boas em um dataframe"
   ]
  },
  {
   "cell_type": "code",
   "execution_count": null,
   "metadata": {},
   "outputs": [],
   "source": []
  },
  {
   "cell_type": "markdown",
   "metadata": {},
   "source": [
    "### Passo 5: exportar pro Excel"
   ]
  },
  {
   "cell_type": "code",
   "execution_count": null,
   "metadata": {},
   "outputs": [],
   "source": []
  },
  {
   "cell_type": "markdown",
   "metadata": {},
   "source": [
    "### Passo 6: enviar por e-mail o resultado da tabela\n"
   ]
  },
  {
   "cell_type": "code",
   "execution_count": null,
   "metadata": {},
   "outputs": [],
   "source": [
    "\n"
   ]
  }
 ],
 "metadata": {
  "kernelspec": {
   "display_name": "Python 3",
   "language": "python",
   "name": "python3"
  },
  "language_info": {
   "codemirror_mode": {
    "name": "ipython",
    "version": 3
   },
   "file_extension": ".py",
   "mimetype": "text/x-python",
   "name": "python",
   "nbconvert_exporter": "python",
   "pygments_lexer": "ipython3",
   "version": "3.8.8"
  }
 },
 "nbformat": 4,
 "nbformat_minor": 4
}
