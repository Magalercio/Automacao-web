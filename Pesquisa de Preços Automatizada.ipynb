{
 "cells": [
  {
   "cell_type": "markdown",
   "metadata": {},
   "source": [
    "# Projeto Automação Web - Busca de Preços\n",
    "\n",
    "### Objetivo: treinar um projeto em que a gente tenha que usar automações web com Selenium para buscar as informações que precisamos\n",
    "\n",
    "- Já fizemos um projeto com esse objetivo no Módulo de Python e Web e em gravações de encontros ao vivo, mas não custa nada treinar mais um pouco.\n",
    "\n",
    "### Como vai funcionar:\n",
    "\n",
    "- Imagina que você trabalha na área de compras de uma empresa e precisa fazer uma comparação de fornecedores para os seus insumos/produtos.\n",
    "\n",
    "- Nessa hora, você vai constantemente buscar nos sites desses fornecedores os produtos disponíveis e o preço, afinal, cada um deles pode fazer promoção em momentos diferentes e com valores diferentes.\n",
    "\n",
    "- Seu objetivo: Se o valor dos produtos for abaixo de um preço limite definido por você, você vai descobrir os produtos mais baratos e atualizar isso em uma planilha.\n",
    "- Em seguida, vai enviar um e-mail com a lista dos produtos abaixo do seu preço máximo de compra.\n",
    "\n",
    "- No nosso caso, vamos fazer com produtos comuns em sites como Google Shopping e Buscapé, mas a ideia é a mesma para outros sites.\n",
    "\n",
    "### Outra opção:\n",
    "\n",
    "- APIs\n",
    "\n",
    "### O que temos disponível?\n",
    "\n",
    "- Planilha de Produtos, com os nomes dos produtos, o preço máximo, o preço mínimo (para evitar produtos \"errados\" ou \"baratos de mais para ser verdade\" e os termos que vamos querer evitar nas nossas buscas.\n",
    "\n",
    "### O que devemos fazer:\n",
    "\n",
    "- Procurar cada produto no Google Shopping e pegar todos os resultados que tenham preço dentro da faixa e sejam os produtos corretos\n",
    "- O mesmo para o Buscapé\n",
    "- Enviar um e-mail para o seu e-mail (no caso da empresa seria para a área de compras por exemplo) com a notificação e a tabela com os itens e preços encontrados, junto com o link de compra. (Vou usar o e-mail pythonimpressionador@gmail.com. Use um e-mail seu para fazer os testes para ver se a mensagem está chegando)"
   ]
  },
  {
   "cell_type": "markdown",
   "metadata": {},
   "source": [
    "### Passo 1: Criar um navegador"
   ]
  },
  {
   "cell_type": "code",
   "execution_count": 149,
   "metadata": {},
   "outputs": [],
   "source": [
    "from selenium import webdriver\n",
    "from selenium.webdriver.common.by import By\n",
    "from selenium.webdriver.common.keys import Keys\n",
    "import pandas as pd\n",
    "import time\n",
    "driver = webdriver.Chrome()\n",
    "\n"
   ]
  },
  {
   "cell_type": "markdown",
   "metadata": {},
   "source": [
    "### Passo 2: Importar/visualizar base de dados"
   ]
  },
  {
   "cell_type": "code",
   "execution_count": 150,
   "metadata": {},
   "outputs": [
    {
     "data": {
      "text/html": [
       "<div>\n",
       "<style scoped>\n",
       "    .dataframe tbody tr th:only-of-type {\n",
       "        vertical-align: middle;\n",
       "    }\n",
       "\n",
       "    .dataframe tbody tr th {\n",
       "        vertical-align: top;\n",
       "    }\n",
       "\n",
       "    .dataframe thead th {\n",
       "        text-align: right;\n",
       "    }\n",
       "</style>\n",
       "<table border=\"1\" class=\"dataframe\">\n",
       "  <thead>\n",
       "    <tr style=\"text-align: right;\">\n",
       "      <th></th>\n",
       "      <th>Nome</th>\n",
       "      <th>Termos banidos</th>\n",
       "      <th>Preço mínimo</th>\n",
       "      <th>Preço máximo</th>\n",
       "    </tr>\n",
       "  </thead>\n",
       "  <tbody>\n",
       "    <tr>\n",
       "      <th>0</th>\n",
       "      <td>iphone 12 64 gb</td>\n",
       "      <td>mini watch 11</td>\n",
       "      <td>3000</td>\n",
       "      <td>3500</td>\n",
       "    </tr>\n",
       "    <tr>\n",
       "      <th>1</th>\n",
       "      <td>rtx 3060</td>\n",
       "      <td>zota galax</td>\n",
       "      <td>4000</td>\n",
       "      <td>4500</td>\n",
       "    </tr>\n",
       "  </tbody>\n",
       "</table>\n",
       "</div>"
      ],
      "text/plain": [
       "              Nome Termos banidos  Preço mínimo  Preço máximo\n",
       "0  iphone 12 64 gb  mini watch 11          3000          3500\n",
       "1         rtx 3060     zota galax          4000          4500"
      ]
     },
     "metadata": {},
     "output_type": "display_data"
    }
   ],
   "source": [
    "tabela_produtos = pd.read_excel ('buscas.xlsx')\n",
    "display(tabela_produtos)"
   ]
  },
  {
   "cell_type": "markdown",
   "metadata": {},
   "source": [
    "### Passo 3: Procurar no google shopping\n",
    "####         Verificar se os produtos estão dentro da faixa de preço"
   ]
  },
  {
   "cell_type": "code",
   "execution_count": 151,
   "metadata": {},
   "outputs": [],
   "source": [
    "#função do google shopping\n",
    "\n",
    "def busca_google_shopping (driver, produto, banido, preco_min, preco_max):\n",
    "\n",
    "#tratando os termos strings (separando os em uma lista)\n",
    "    produto = produto.lower()\n",
    "    banido= banido.lower()\n",
    "\n",
    "    lista_banidos = banido.split(\" \")\n",
    "    lista_produto = produto.split(\" \")\n",
    "#entrando no google\n",
    "    driver.get('http://www.google.com')\n",
    "    driver.find_element(By.XPATH, '/html/body/div[1]/div[3]/form/div[1]/div[1]/div[1]/div/div[2]/input').send_keys(produto)\n",
    "    driver.find_element(By.XPATH, '/html/body/div[1]/div[3]/form/div[1]/div[1]/div[1]/div/div[2]/input').send_keys(Keys.ENTER)\n",
    "#entrando no botão do shopping\n",
    "    elementos = driver.find_elements(By.CLASS_NAME, 'hdtb-mitem')\n",
    "    for elemento in elementos:\n",
    "        if \"Shopping\" in elemento.text:\n",
    "            elemento.click()\n",
    "            break\n",
    "\n",
    "#pegando resultado da busca\n",
    "\n",
    "    lista_resultados = driver.find_elements(By.CLASS_NAME, 'sh-dgr__grid-result')\n",
    "    lista_ofertas=[]\n",
    "    \n",
    "#Para cada resultado, verificar se corresponde a todas as condicionais   \n",
    "    for resultado in lista_resultados:\n",
    "\n",
    "        nome = resultado.find_element(By.CLASS_NAME, 'Xjkr3b').text\n",
    "        nome=nome.lower()\n",
    "\n",
    "#verificação do nome do produto (se tem termo banido e se tem todos os termos do nome)\n",
    "        tem_termos_banidos = False\n",
    "        for palavra in lista_banidos:\n",
    "            if palavra in nome:\n",
    "                tem_termos_banidos = True\n",
    "\n",
    "        tem_todos_termos_produtos= True\n",
    "        for palavra in lista_produto:\n",
    "            if palavra not in nome:\n",
    "                tem_todos_termos_produtos = False\n",
    "\n",
    "        if not tem_termos_banidos and tem_todos_termos_produtos:\n",
    "#Verificaçao e tratamento do preço\n",
    "            preco = resultado.find_element(By.CLASS_NAME, 'a8Pemb').text\n",
    "            preco = preco.replace (\"R$\", \"\").replace (\" \", \"\").replace (\".\", \"\").replace (\",\",\".\")\n",
    "            preco = float(preco)\n",
    "            preco_max = float(preco_max)\n",
    "            preco_min = float(preco_min)\n",
    "\n",
    "\n",
    "            if preco_min <= preco <= preco_max:\n",
    "                elemento_link= resultado.find_element(By.CLASS_NAME, 'aULzUe')\n",
    "                elemento_pai= elemento_link.find_element (By.XPATH, '..')\n",
    "                link = elemento_pai.get_attribute('href')\n",
    "#atualizaçao da lista de oferta              \n",
    "                lista_ofertas.append((nome,preco,link))\n",
    "    return lista_ofertas"
   ]
  },
  {
   "cell_type": "code",
   "execution_count": 152,
   "metadata": {},
   "outputs": [],
   "source": [
    "produto = 'iphone 12 64 gb'\n",
    "banido= 'mini watch 11'\n",
    "preco_min = 3000\n",
    "preco_max = 5500"
   ]
  },
  {
   "cell_type": "code",
   "execution_count": 153,
   "metadata": {
    "scrolled": true
   },
   "outputs": [
    {
     "name": "stdout",
     "output_type": "stream",
     "text": [
      "[('iphone 12 64 gb - preto apple', 4319.1, 'https://www.google.com/url?url=https://www.casasbahia.com.br/iphone-12-apple-64gb-preto-tela-de-61-camera-dupla-de-12mp-ios-55014524/p/55014524%3Futm_medium%3DCpc%26utm_source%3Dgoogle_freelisting%26IdSku%3D55014524%26idLojista%3D10037%26tipoLojista%3D1P&rct=j&q=&esrc=s&sa=U&ved=0ahUKEwiX9qPJ6Kr3AhV6vJUCHc9PB0cQguUECNMM&usg=AOvVaw2V5p-JswXQjZnYvz_X-UIb'), ('apple iphone 12 - 64gb product (red) - vermelho', 4319.1, 'https://www.google.com/url?url=https://www.americanas.com.br/produto/3591018375%3Fopn%3DYSMESP&rct=j&q=&esrc=s&sa=U&ved=0ahUKEwiX9qPJ6Kr3AhV6vJUCHc9PB0cQguUECOYM&usg=AOvVaw2a9bQT1MJHC_8NL2MjbBiO'), ('iphone 12 apple 64gb - preto tela 6,1\" 12mp ios - - preto', 4799.0, 'https://www.google.com/url?url=https://www.shoppingsmiles.com.br/smiles/produto.jsf%3Fs%3D2311473-00%26p%3D2311473_8%26a%3Dtrue&rct=j&q=&esrc=s&sa=U&ved=0ahUKEwiX9qPJ6Kr3AhV6vJUCHc9PB0cQgOUECIgN&usg=AOvVaw2DGxxq7kq5EEpniECRfAQe'), ('iphone 12 64gb azul aparelho novo ativado', 4199.99, 'https://www.google.com/url?url=https://www.tudodaamerica.com.br/iphone-12-64gb-azul&rct=j&q=&esrc=s&sa=U&ved=0ahUKEwiX9qPJ6Kr3AhV6vJUCHc9PB0cQgOUECKYN&usg=AOvVaw01j2wTJzZK7NOCPa-Louj-'), ('apple iphone 12, preto, 64gb, tela 6,1 pol. câm. dupla 12mp no plano vivo selfie ...', 4499.0, 'https://www.google.com/url?url=https://lojaonline.vivo.com.br/vivostorefront/Vivo/Aparelhos/Smartphone/iPhone-12-Apple-Preto,-64GB,-Tela-6-1,-C%25C3%25A2m-Dupla-12MP/p/DGAP13062000%3FbestPlanCode%3DPLPOSPREMI_NFCB%26origem%3Dfeed-google-shopping%26utm_source%3Dgoogle_shopping%26utm_medium%3Dorganic%26utm_campaign%3Dfree_shopping_list&rct=j&q=&esrc=s&sa=U&ved=0ahUKEwiX9qPJ6Kr3AhV6vJUCHc9PB0cQgOUECLUN&usg=AOvVaw1Vd21_cvVtQzEnodnccEl1'), ('iphone 12 - novo - branco - 64gb', 5025.5, 'https://www.google.com/url?url=https://loja.tudoiphone.com.br/iphones/iphone-12-novo-branco-64gb&rct=j&q=&esrc=s&sa=U&ved=0ahUKEwiX9qPJ6Kr3AhV6vJUCHc9PB0cQgOUECNQN&usg=AOvVaw3-zsBh01SjpyBbidgDolGZ'), ('iphone 12 64gb', 4505.4, 'https://www.google.com/url?url=https://wantimport.com/loja/apple/iphone/iphone-12/&rct=j&q=&esrc=s&sa=U&ved=0ahUKEwiX9qPJ6Kr3AhV6vJUCHc9PB0cQguUECKQO&usg=AOvVaw1vqG-2pW9C_N0GcW6Zdjoz'), ('iphone 12 64gb vermelho, 5g, 6.1, 12mp - mgj73br/a - apple', 5262.11, 'https://www.google.com/url?url=https://www.magazineluiza.com.br/iphone-12-64gb-vermelho-5g-6-1-12mp-mgj73br-a-apple/p/hk18gda83k/te/ceba/%3F%26seller_id%3Dkabum&rct=j&q=&esrc=s&sa=U&ved=0ahUKEwiX9qPJ6Kr3AhV6vJUCHc9PB0cQgOUECLQO&usg=AOvVaw1w1gle0rL0oUJUnPkYUkW4'), ('iphone 12 apple 64gb - branco tela 6,1” 12mp ios', 4559.05, 'https://www.google.com/url?url=https://lindazi.com/iphone-12-apple-64gb-branco-tela-61-12mp-ios/38665334/&rct=j&q=&esrc=s&sa=U&ved=0ahUKEwiX9qPJ6Kr3AhV6vJUCHc9PB0cQgOUECNIO&usg=AOvVaw3bQLEj9Lle9ht8v5e0zkri'), ('iphone 12 apple 64gb azul tela de 6,1, câmera | celular apple', 3850.0, 'https://www.google.com/url?url=https://www.enjoei.com.br/p/iphone-12-apple-64gb-azul-tela-de-6-1-camera-69600466%3Fg_campaign%3Dgoogle_shopping&rct=j&q=&esrc=s&sa=U&ved=0ahUKEwiX9qPJ6Kr3AhV6vJUCHc9PB0cQgOUECP8O&usg=AOvVaw0R0gYj7gH71luZTaYCeS-U'), ('iphone 12 apple 64gb - branco tela 6,1\" 12mp ios - - branco', 4799.0, 'https://www.google.com/url?url=https://www.shoppingsmiles.com.br/smiles/produto.jsf%3Fs%3D2311474-00%26p%3D2311474_8%26a%3Dtrue&rct=j&q=&esrc=s&sa=U&ved=0ahUKEwiX9qPJ6Kr3AhV6vJUCHc9PB0cQgOUECMwP&usg=AOvVaw3xMHQBeNR6MD_p-3TEqocd'), ('iphone 12 apple 64gb - preto tela 6,1” 12mp ios', 4559.05, 'https://www.google.com/url?url=https://lindazi.com/iphone-12-apple-64gb-preto-tela-61-12mp-ios/38665337/&rct=j&q=&esrc=s&sa=U&ved=0ahUKEwiX9qPJ6Kr3AhV6vJUCHc9PB0cQgOUECPkP&usg=AOvVaw1oH_TKgJNWINxWomlKJkCo'), ('iphone 12 apple 64gb (product)red 6,1 - ios + carregador usb-c de 20w apple ...', 5479.6, 'https://www.google.com/url?url=https://www.magazineluiza.com.br/iphone-12-apple-64gb-product-red-61-ios-carregador-usb-c-de-20w-apple-branco/p/229549800/te/ip12/%3F%26force%3D12%26seller_id%3Dmagazineluiza&rct=j&q=&esrc=s&sa=U&ved=0ahUKEwiX9qPJ6Kr3AhV6vJUCHc9PB0cQgOUECIgQ&usg=AOvVaw3tjlfuFogUAnZLw5YGIxMl'), ('iphone 12 64gb | celular apple | usado', 5000.0, 'https://www.google.com/url?url=https://www.enjoei.com.br/p/iphone-12-64gb-65998165%3Fg_campaign%3Dgoogle_shopping&rct=j&q=&esrc=s&sa=U&ved=0ahUKEwiX9qPJ6Kr3AhV6vJUCHc9PB0cQgOUECKgQ&usg=AOvVaw21NaBPx_ibCda3p_GJksPm'), ('iphone 12 apple 64gb verde 6,1” câm. dupla 12mp - ios', 4939.05, 'https://www.google.com/url?url=https://lindazi.com/iphone-12-apple-64gb-verde-61-cam-dupla-12mp-ios/23401813/&rct=j&q=&esrc=s&sa=U&ved=0ahUKEwiX9qPJ6Kr3AhV6vJUCHc9PB0cQgOUECNsQ&usg=AOvVaw2ojuizu-FqXW26KmfTAGm7'), ('vitrine apple iphone 12 64gb preto com nfe e pronta entrega', 5490.0, 'https://www.google.com/url?url=https://www.submarino.com.br/produto/4829610484%3Fopn%3DXMLGOOGLE%26offerId%3D6238c085d9f593c3e86cb6f6&rct=j&q=&esrc=s&sa=U&ved=0ahUKEwiX9qPJ6Kr3AhV6vJUCHc9PB0cQgOUECOoQ&usg=AOvVaw35PDGZjRKxKfuXHYf-04lf'), ('iphone 12 6.1 polegadas / 64gb / azul', 5430.0, 'https://www.google.com/url?url=https://vcellprime.com.br/iphone-11-64gb-c386-c563-c642&rct=j&q=&esrc=s&sa=U&ved=0ahUKEwiX9qPJ6Kr3AhV6vJUCHc9PB0cQgOUECJcR&usg=AOvVaw0N8z6sAV05JG7ulhJLw8fA'), (\"iphone 12 apple 64gb ios 5g wi-fi tela 6.1'' câmera 12mp - preto\", 3711.09, 'https://www.google.com/url?url=https://clickeletron.com/iphone-12-apple-64gb-ios-5g-wi-fi-tela-61-camera-12mp-preto&rct=j&q=&esrc=s&sa=U&ved=0ahUKEwiX9qPJ6Kr3AhV6vJUCHc9PB0cQgOUECKYR&usg=AOvVaw3kP3JHSfaiR-XTMpsxBq7S'), ('iphone 12 64gb black - 6.1” de tela (seminovo)', 4599.0, 'https://www.google.com/url?url=https://www.lucasimportadosportoalegre.com.br/product-page/iphone-12-64gb-black-6-1-de-tela-seminovo&rct=j&q=&esrc=s&sa=U&ved=0ahUKEwiX9qPJ6Kr3AhV6vJUCHc9PB0cQgOUECLUR&usg=AOvVaw38BtQe3OLwmNAecfvf1ETn'), ('iphone 12 - lacrado 64gb / white', 4753.06, 'https://www.google.com/url?url=https://www.marketgds.com/products/iphone-12-lacrado%3Fvariant%3D42622457184484%26currency%3DBRL%26utm_medium%3Dproduct_sync%26utm_source%3Dgoogle%26utm_content%3Dsag_organic%26utm_campaign%3Dsag_organic&rct=j&q=&esrc=s&sa=U&ved=0ahUKEwiX9qPJ6Kr3AhV6vJUCHc9PB0cQgOUECPIR&usg=AOvVaw14dF0psb9U4d9qXK_AKKXR'), ('smartphone apple iphone 12 64 gb branco', 4799.0, 'https://www.google.com/url?url=https://www.shopfacil.com.br/smartphone-apple-iphone-12-64-gb-branco-1171760268/p%3Fseller%3Dextra%26sellerId%3Dextra%26idsku%3D7436820%26lu%3D20220422151031&rct=j&q=&esrc=s&sa=U&ved=0ahUKEwiX9qPJ6Kr3AhV6vJUCHc9PB0cQgOUECP4S&usg=AOvVaw0U6je9tURHjFHYdKG58yH8'), ('teamvl celulares e eletrônicos | apple iphone 12 (64 gb) - verde', 5099.9, 'https://www.google.com/url?url=https://www.teamvlcel.com.br/product/1417305/iphone-12-64gb-verde-lacrado&rct=j&q=&esrc=s&sa=U&ved=0ahUKEwiX9qPJ6Kr3AhV6vJUCHc9PB0cQgOUECI0T&usg=AOvVaw3pmAWeK7vCEqestQsN3uXc')]\n"
     ]
    }
   ],
   "source": [
    "lista_ofertas_google = busca_google_shopping (driver, produto, banido, preco_min, preco_max)\n",
    "print(lista_ofertas_google)      "
   ]
  },
  {
   "cell_type": "markdown",
   "metadata": {},
   "source": [
    "### Passo 3: Procurar no buscapé\n",
    "#### Verificar se os produtos estão dentro da faixa de preço"
   ]
  },
  {
   "cell_type": "code",
   "execution_count": 154,
   "metadata": {},
   "outputs": [],
   "source": [
    "\n",
    "def busca_buscape (driver, produto, banido, preco_min, preco_max):\n",
    "\n",
    "#tratando os termos strings (separando os em uma lista)\n",
    "    produto = produto.lower()\n",
    "    banido= banido.lower()\n",
    "\n",
    "    lista_banidos = banido.split(\" \")\n",
    "    lista_produto = produto.split(\" \")\n",
    "#entrando no buscape\n",
    "    driver.get('https://www.buscape.com.br/')\n",
    "    driver.find_element(By.XPATH, '//*[@id=\"new-header\"]/div[1]/div/div/div[3]/div/div/div[1]/input').send_keys(produto)\n",
    "    driver.find_element(By.XPATH, '//*[@id=\"new-header\"]/div[1]/div/div/div[3]/div/div/div[1]/input').send_keys(Keys.ENTER)\n",
    "\n",
    "#pegando resultado da busca\n",
    "    time.sleep(5)\n",
    "    lista_resultados = driver.find_elements(By.CLASS_NAME, 'Cell_Content__fT5st')\n",
    "    lista_ofertas=[]\n",
    "\n",
    "#Para cada resultado, verificar se corresponde a todas as condicionais   \n",
    "    for resultado in lista_resultados:\n",
    "\n",
    "        nome = resultado.get_attribute('title')\n",
    "        nome=nome.lower()\n",
    "\n",
    "#verificação do nome do produto (se tem termo banido e se tem todos os termos do nome)\n",
    "        tem_termos_banidos = False\n",
    "        for palavra in lista_banidos:\n",
    "            if palavra in nome:\n",
    "                tem_termos_banidos = True\n",
    "\n",
    "        tem_todos_termos_produtos= True\n",
    "        for palavra in lista_produto:\n",
    "            if palavra not in nome:\n",
    "                tem_todos_termos_produtos = False\n",
    "\n",
    "        if not tem_termos_banidos and tem_todos_termos_produtos:\n",
    "#Verificaçao e tratamento do preço\n",
    "            preco = resultado.find_element(By.CLASS_NAME, 'CellPrice_MainValue__JXsj_').text\n",
    "            preco = preco.replace (\"R$\", \"\").replace (\" \", \"\").replace (\".\", \"\").replace (\",\",\".\")\n",
    "            preco = float(preco)\n",
    "            preco_max = float(preco_max)\n",
    "            preco_min = float(preco_min)\n",
    "\n",
    "\n",
    "            if preco_min <= preco <= preco_max:\n",
    "                link = resultado.get_attribute(\"href\")\n",
    "#atualizaçao da lista de oferta              \n",
    "                lista_ofertas.append((nome,preco,link))\n",
    "#return lista_ofertas\n",
    "    return lista_ofertas            "
   ]
  },
  {
   "cell_type": "code",
   "execution_count": 155,
   "metadata": {},
   "outputs": [
    {
     "name": "stdout",
     "output_type": "stream",
     "text": [
      "[('smartphone apple iphone 12 vermelho 64gb ios câmera dupla', 4319.1, 'https://www.buscape.com.br/celular/smartphone-apple-iphone-12-vermelho-64gb-ios?_lc=88&searchterm=iphone%2012%2064%20gb'), ('smartphone apple iphone 12 64gb ios câmera dupla', 4199.0, 'https://www.buscape.com.br/celular/smartphone-apple-iphone-12-64gb-ios?_lc=88&searchterm=iphone%2012%2064%20gb'), ('smartphone apple iphone se 3 4 gb 64gb 12.0 mp apple a15 bionic 1 chip ios 15', 3224.76, 'https://www.buscape.com.br/celular/smartphone-apple-iphone-se-3-64gb-ios-12-0-mp?_lc=88&searchterm=iphone%2012%2064%20gb'), ('smartphone apple iphone se 3 vermelho 4 gb 64gb 12.0 mp apple a15 bionic 1 chip ios 15', 3695.12, 'https://www.buscape.com.br/celular/smartphone-apple-iphone-se-3-vermelho-64gb-ios-12-0-mp?_lc=88&searchterm=iphone%2012%2064%20gb'), ('smartphone apple iphone xr vermelho 64gb ios 12.0 mp', 3749.0, 'https://www.buscape.com.br/celular/smartphone-apple-iphone-xr-vermelho-64gb-4g?_lc=88&searchterm=iphone%2012%2064%20gb'), ('iphone xr preto, com tela de 6,1, 4g, 64 gb e câmera de 12 mp', 3352.5, 'https://www.buscape.com.br/lead?oid=739221041&channel=86&index=31&searchterm=iphone%2012%2064%20gb'), ('iphone xr preto, com tela de 6,1, 4g, 64 gb e câmera de 12 mp', 3725.0, 'https://www.buscape.com.br/lead?oid=739219517&channel=86&index=32&searchterm=iphone%2012%2064%20gb'), ('iphone xs max prata, com tela de 6,5, 4g, 64 gb e câmera de 12 mp', 3499.0, 'https://www.buscape.com.br/lead?oid=729594434&channel=86&index=33&searchterm=iphone%2012%2064%20gb'), ('iphone xs max prata, com tela de 6,5, 4g, 64 gb e câmera de 12 mp', 3499.0, 'https://www.buscape.com.br/lead?oid=729594307&channel=86&index=34&searchterm=iphone%2012%2064%20gb')]\n"
     ]
    }
   ],
   "source": [
    "lista_ofertas_buscape = busca_buscape (driver, produto, banido, preco_min, preco_max)\n",
    "print(lista_ofertas_buscape)      "
   ]
  },
  {
   "cell_type": "markdown",
   "metadata": {},
   "source": [
    "### Passo 4: Salvar as ofertas boas em um dataframe"
   ]
  },
  {
   "cell_type": "code",
   "execution_count": null,
   "metadata": {},
   "outputs": [],
   "source": []
  },
  {
   "cell_type": "markdown",
   "metadata": {},
   "source": [
    "### Passo 5: exportar pro Excel"
   ]
  },
  {
   "cell_type": "code",
   "execution_count": null,
   "metadata": {},
   "outputs": [],
   "source": []
  },
  {
   "cell_type": "markdown",
   "metadata": {},
   "source": [
    "### Passo 6: enviar por e-mail o resultado da tabela\n"
   ]
  },
  {
   "cell_type": "code",
   "execution_count": null,
   "metadata": {},
   "outputs": [],
   "source": [
    "\n"
   ]
  }
 ],
 "metadata": {
  "kernelspec": {
   "display_name": "Python 3",
   "language": "python",
   "name": "python3"
  },
  "language_info": {
   "codemirror_mode": {
    "name": "ipython",
    "version": 3
   },
   "file_extension": ".py",
   "mimetype": "text/x-python",
   "name": "python",
   "nbconvert_exporter": "python",
   "pygments_lexer": "ipython3",
   "version": "3.8.8"
  }
 },
 "nbformat": 4,
 "nbformat_minor": 4
}
